{
  "nbformat": 4,
  "nbformat_minor": 0,
  "metadata": {
    "colab": {
      "provenance": [],
      "mount_file_id": "1U7IOPIEgXzA7o6Vbp7IcAPzzfYmYMSY5",
      "authorship_tag": "ABX9TyPxU309bZqRa7398XARr/+m",
      "include_colab_link": true
    },
    "kernelspec": {
      "name": "python3",
      "display_name": "Python 3"
    },
    "language_info": {
      "name": "python"
    },
    "accelerator": "GPU",
    "widgets": {
      "application/vnd.jupyter.widget-state+json": {
        "d65580df466e49189d82661ea06d73f3": {
          "model_module": "@jupyter-widgets/controls",
          "model_name": "HBoxModel",
          "model_module_version": "1.5.0",
          "state": {
            "_dom_classes": [],
            "_model_module": "@jupyter-widgets/controls",
            "_model_module_version": "1.5.0",
            "_model_name": "HBoxModel",
            "_view_count": null,
            "_view_module": "@jupyter-widgets/controls",
            "_view_module_version": "1.5.0",
            "_view_name": "HBoxView",
            "box_style": "",
            "children": [
              "IPY_MODEL_7f76a598c3054c698742141da8ef8f2a",
              "IPY_MODEL_0cf2f19ca357445bbc0b9220eb61c1c9",
              "IPY_MODEL_2b877435b6064ea88883d448ef0f74ea"
            ],
            "layout": "IPY_MODEL_8fa37fc62a8940c1927fa537cda3a927"
          }
        },
        "7f76a598c3054c698742141da8ef8f2a": {
          "model_module": "@jupyter-widgets/controls",
          "model_name": "HTMLModel",
          "model_module_version": "1.5.0",
          "state": {
            "_dom_classes": [],
            "_model_module": "@jupyter-widgets/controls",
            "_model_module_version": "1.5.0",
            "_model_name": "HTMLModel",
            "_view_count": null,
            "_view_module": "@jupyter-widgets/controls",
            "_view_module_version": "1.5.0",
            "_view_name": "HTMLView",
            "description": "",
            "description_tooltip": null,
            "layout": "IPY_MODEL_70bc5bfe5c1c4594a6c7d6787abd8155",
            "placeholder": "​",
            "style": "IPY_MODEL_74e7586f32814c71a66683ed620367cc",
            "value": "100%"
          }
        },
        "0cf2f19ca357445bbc0b9220eb61c1c9": {
          "model_module": "@jupyter-widgets/controls",
          "model_name": "FloatProgressModel",
          "model_module_version": "1.5.0",
          "state": {
            "_dom_classes": [],
            "_model_module": "@jupyter-widgets/controls",
            "_model_module_version": "1.5.0",
            "_model_name": "FloatProgressModel",
            "_view_count": null,
            "_view_module": "@jupyter-widgets/controls",
            "_view_module_version": "1.5.0",
            "_view_name": "ProgressView",
            "bar_style": "success",
            "description": "",
            "description_tooltip": null,
            "layout": "IPY_MODEL_cc4177f197114c73bf2ba98b3ef25316",
            "max": 182,
            "min": 0,
            "orientation": "horizontal",
            "style": "IPY_MODEL_f2d09eaec7f44fbd9fcaea0dba6f97a7",
            "value": 182
          }
        },
        "2b877435b6064ea88883d448ef0f74ea": {
          "model_module": "@jupyter-widgets/controls",
          "model_name": "HTMLModel",
          "model_module_version": "1.5.0",
          "state": {
            "_dom_classes": [],
            "_model_module": "@jupyter-widgets/controls",
            "_model_module_version": "1.5.0",
            "_model_name": "HTMLModel",
            "_view_count": null,
            "_view_module": "@jupyter-widgets/controls",
            "_view_module_version": "1.5.0",
            "_view_name": "HTMLView",
            "description": "",
            "description_tooltip": null,
            "layout": "IPY_MODEL_b075d936cccd46b1911e2f904002e386",
            "placeholder": "​",
            "style": "IPY_MODEL_60cadbbef4e6492282a5560cd2051231",
            "value": " 182/182 [00:38&lt;00:00,  4.92it/s]"
          }
        },
        "8fa37fc62a8940c1927fa537cda3a927": {
          "model_module": "@jupyter-widgets/base",
          "model_name": "LayoutModel",
          "model_module_version": "1.2.0",
          "state": {
            "_model_module": "@jupyter-widgets/base",
            "_model_module_version": "1.2.0",
            "_model_name": "LayoutModel",
            "_view_count": null,
            "_view_module": "@jupyter-widgets/base",
            "_view_module_version": "1.2.0",
            "_view_name": "LayoutView",
            "align_content": null,
            "align_items": null,
            "align_self": null,
            "border": null,
            "bottom": null,
            "display": null,
            "flex": null,
            "flex_flow": null,
            "grid_area": null,
            "grid_auto_columns": null,
            "grid_auto_flow": null,
            "grid_auto_rows": null,
            "grid_column": null,
            "grid_gap": null,
            "grid_row": null,
            "grid_template_areas": null,
            "grid_template_columns": null,
            "grid_template_rows": null,
            "height": null,
            "justify_content": null,
            "justify_items": null,
            "left": null,
            "margin": null,
            "max_height": null,
            "max_width": null,
            "min_height": null,
            "min_width": null,
            "object_fit": null,
            "object_position": null,
            "order": null,
            "overflow": null,
            "overflow_x": null,
            "overflow_y": null,
            "padding": null,
            "right": null,
            "top": null,
            "visibility": null,
            "width": null
          }
        },
        "70bc5bfe5c1c4594a6c7d6787abd8155": {
          "model_module": "@jupyter-widgets/base",
          "model_name": "LayoutModel",
          "model_module_version": "1.2.0",
          "state": {
            "_model_module": "@jupyter-widgets/base",
            "_model_module_version": "1.2.0",
            "_model_name": "LayoutModel",
            "_view_count": null,
            "_view_module": "@jupyter-widgets/base",
            "_view_module_version": "1.2.0",
            "_view_name": "LayoutView",
            "align_content": null,
            "align_items": null,
            "align_self": null,
            "border": null,
            "bottom": null,
            "display": null,
            "flex": null,
            "flex_flow": null,
            "grid_area": null,
            "grid_auto_columns": null,
            "grid_auto_flow": null,
            "grid_auto_rows": null,
            "grid_column": null,
            "grid_gap": null,
            "grid_row": null,
            "grid_template_areas": null,
            "grid_template_columns": null,
            "grid_template_rows": null,
            "height": null,
            "justify_content": null,
            "justify_items": null,
            "left": null,
            "margin": null,
            "max_height": null,
            "max_width": null,
            "min_height": null,
            "min_width": null,
            "object_fit": null,
            "object_position": null,
            "order": null,
            "overflow": null,
            "overflow_x": null,
            "overflow_y": null,
            "padding": null,
            "right": null,
            "top": null,
            "visibility": null,
            "width": null
          }
        },
        "74e7586f32814c71a66683ed620367cc": {
          "model_module": "@jupyter-widgets/controls",
          "model_name": "DescriptionStyleModel",
          "model_module_version": "1.5.0",
          "state": {
            "_model_module": "@jupyter-widgets/controls",
            "_model_module_version": "1.5.0",
            "_model_name": "DescriptionStyleModel",
            "_view_count": null,
            "_view_module": "@jupyter-widgets/base",
            "_view_module_version": "1.2.0",
            "_view_name": "StyleView",
            "description_width": ""
          }
        },
        "cc4177f197114c73bf2ba98b3ef25316": {
          "model_module": "@jupyter-widgets/base",
          "model_name": "LayoutModel",
          "model_module_version": "1.2.0",
          "state": {
            "_model_module": "@jupyter-widgets/base",
            "_model_module_version": "1.2.0",
            "_model_name": "LayoutModel",
            "_view_count": null,
            "_view_module": "@jupyter-widgets/base",
            "_view_module_version": "1.2.0",
            "_view_name": "LayoutView",
            "align_content": null,
            "align_items": null,
            "align_self": null,
            "border": null,
            "bottom": null,
            "display": null,
            "flex": null,
            "flex_flow": null,
            "grid_area": null,
            "grid_auto_columns": null,
            "grid_auto_flow": null,
            "grid_auto_rows": null,
            "grid_column": null,
            "grid_gap": null,
            "grid_row": null,
            "grid_template_areas": null,
            "grid_template_columns": null,
            "grid_template_rows": null,
            "height": null,
            "justify_content": null,
            "justify_items": null,
            "left": null,
            "margin": null,
            "max_height": null,
            "max_width": null,
            "min_height": null,
            "min_width": null,
            "object_fit": null,
            "object_position": null,
            "order": null,
            "overflow": null,
            "overflow_x": null,
            "overflow_y": null,
            "padding": null,
            "right": null,
            "top": null,
            "visibility": null,
            "width": null
          }
        },
        "f2d09eaec7f44fbd9fcaea0dba6f97a7": {
          "model_module": "@jupyter-widgets/controls",
          "model_name": "ProgressStyleModel",
          "model_module_version": "1.5.0",
          "state": {
            "_model_module": "@jupyter-widgets/controls",
            "_model_module_version": "1.5.0",
            "_model_name": "ProgressStyleModel",
            "_view_count": null,
            "_view_module": "@jupyter-widgets/base",
            "_view_module_version": "1.2.0",
            "_view_name": "StyleView",
            "bar_color": null,
            "description_width": ""
          }
        },
        "b075d936cccd46b1911e2f904002e386": {
          "model_module": "@jupyter-widgets/base",
          "model_name": "LayoutModel",
          "model_module_version": "1.2.0",
          "state": {
            "_model_module": "@jupyter-widgets/base",
            "_model_module_version": "1.2.0",
            "_model_name": "LayoutModel",
            "_view_count": null,
            "_view_module": "@jupyter-widgets/base",
            "_view_module_version": "1.2.0",
            "_view_name": "LayoutView",
            "align_content": null,
            "align_items": null,
            "align_self": null,
            "border": null,
            "bottom": null,
            "display": null,
            "flex": null,
            "flex_flow": null,
            "grid_area": null,
            "grid_auto_columns": null,
            "grid_auto_flow": null,
            "grid_auto_rows": null,
            "grid_column": null,
            "grid_gap": null,
            "grid_row": null,
            "grid_template_areas": null,
            "grid_template_columns": null,
            "grid_template_rows": null,
            "height": null,
            "justify_content": null,
            "justify_items": null,
            "left": null,
            "margin": null,
            "max_height": null,
            "max_width": null,
            "min_height": null,
            "min_width": null,
            "object_fit": null,
            "object_position": null,
            "order": null,
            "overflow": null,
            "overflow_x": null,
            "overflow_y": null,
            "padding": null,
            "right": null,
            "top": null,
            "visibility": null,
            "width": null
          }
        },
        "60cadbbef4e6492282a5560cd2051231": {
          "model_module": "@jupyter-widgets/controls",
          "model_name": "DescriptionStyleModel",
          "model_module_version": "1.5.0",
          "state": {
            "_model_module": "@jupyter-widgets/controls",
            "_model_module_version": "1.5.0",
            "_model_name": "DescriptionStyleModel",
            "_view_count": null,
            "_view_module": "@jupyter-widgets/base",
            "_view_module_version": "1.2.0",
            "_view_name": "StyleView",
            "description_width": ""
          }
        },
        "fdfa8435b351484ba319794e494caf90": {
          "model_module": "@jupyter-widgets/controls",
          "model_name": "HBoxModel",
          "model_module_version": "1.5.0",
          "state": {
            "_dom_classes": [],
            "_model_module": "@jupyter-widgets/controls",
            "_model_module_version": "1.5.0",
            "_model_name": "HBoxModel",
            "_view_count": null,
            "_view_module": "@jupyter-widgets/controls",
            "_view_module_version": "1.5.0",
            "_view_name": "HBoxView",
            "box_style": "",
            "children": [
              "IPY_MODEL_42f96c3bb7844781917a936ded12a874",
              "IPY_MODEL_e85fcf3188c24e28ac67cdd80ef73e53",
              "IPY_MODEL_cf2e3c8b974348dfbadf32904d0db22a"
            ],
            "layout": "IPY_MODEL_6a8e0cb15b4a4d0b92e8ab47508afbed"
          }
        },
        "42f96c3bb7844781917a936ded12a874": {
          "model_module": "@jupyter-widgets/controls",
          "model_name": "HTMLModel",
          "model_module_version": "1.5.0",
          "state": {
            "_dom_classes": [],
            "_model_module": "@jupyter-widgets/controls",
            "_model_module_version": "1.5.0",
            "_model_name": "HTMLModel",
            "_view_count": null,
            "_view_module": "@jupyter-widgets/controls",
            "_view_module_version": "1.5.0",
            "_view_name": "HTMLView",
            "description": "",
            "description_tooltip": null,
            "layout": "IPY_MODEL_de1f4fb6f959412baf351d74475a1cd5",
            "placeholder": "​",
            "style": "IPY_MODEL_199d0de256ec45718fa9d32682746ca2",
            "value": "100%"
          }
        },
        "e85fcf3188c24e28ac67cdd80ef73e53": {
          "model_module": "@jupyter-widgets/controls",
          "model_name": "FloatProgressModel",
          "model_module_version": "1.5.0",
          "state": {
            "_dom_classes": [],
            "_model_module": "@jupyter-widgets/controls",
            "_model_module_version": "1.5.0",
            "_model_name": "FloatProgressModel",
            "_view_count": null,
            "_view_module": "@jupyter-widgets/controls",
            "_view_module_version": "1.5.0",
            "_view_name": "ProgressView",
            "bar_style": "success",
            "description": "",
            "description_tooltip": null,
            "layout": "IPY_MODEL_97d135dd64cf45ce9b26a86140aaacf8",
            "max": 96,
            "min": 0,
            "orientation": "horizontal",
            "style": "IPY_MODEL_67f7b7caba2945fdac7702ed28e51897",
            "value": 96
          }
        },
        "cf2e3c8b974348dfbadf32904d0db22a": {
          "model_module": "@jupyter-widgets/controls",
          "model_name": "HTMLModel",
          "model_module_version": "1.5.0",
          "state": {
            "_dom_classes": [],
            "_model_module": "@jupyter-widgets/controls",
            "_model_module_version": "1.5.0",
            "_model_name": "HTMLModel",
            "_view_count": null,
            "_view_module": "@jupyter-widgets/controls",
            "_view_module_version": "1.5.0",
            "_view_name": "HTMLView",
            "description": "",
            "description_tooltip": null,
            "layout": "IPY_MODEL_851da3801e4d427da034c4c29bc0d167",
            "placeholder": "​",
            "style": "IPY_MODEL_65e5438e09a044908b804b4e0fffd3b7",
            "value": " 96/96 [00:04&lt;00:00, 21.94it/s]"
          }
        },
        "6a8e0cb15b4a4d0b92e8ab47508afbed": {
          "model_module": "@jupyter-widgets/base",
          "model_name": "LayoutModel",
          "model_module_version": "1.2.0",
          "state": {
            "_model_module": "@jupyter-widgets/base",
            "_model_module_version": "1.2.0",
            "_model_name": "LayoutModel",
            "_view_count": null,
            "_view_module": "@jupyter-widgets/base",
            "_view_module_version": "1.2.0",
            "_view_name": "LayoutView",
            "align_content": null,
            "align_items": null,
            "align_self": null,
            "border": null,
            "bottom": null,
            "display": null,
            "flex": null,
            "flex_flow": null,
            "grid_area": null,
            "grid_auto_columns": null,
            "grid_auto_flow": null,
            "grid_auto_rows": null,
            "grid_column": null,
            "grid_gap": null,
            "grid_row": null,
            "grid_template_areas": null,
            "grid_template_columns": null,
            "grid_template_rows": null,
            "height": null,
            "justify_content": null,
            "justify_items": null,
            "left": null,
            "margin": null,
            "max_height": null,
            "max_width": null,
            "min_height": null,
            "min_width": null,
            "object_fit": null,
            "object_position": null,
            "order": null,
            "overflow": null,
            "overflow_x": null,
            "overflow_y": null,
            "padding": null,
            "right": null,
            "top": null,
            "visibility": null,
            "width": null
          }
        },
        "de1f4fb6f959412baf351d74475a1cd5": {
          "model_module": "@jupyter-widgets/base",
          "model_name": "LayoutModel",
          "model_module_version": "1.2.0",
          "state": {
            "_model_module": "@jupyter-widgets/base",
            "_model_module_version": "1.2.0",
            "_model_name": "LayoutModel",
            "_view_count": null,
            "_view_module": "@jupyter-widgets/base",
            "_view_module_version": "1.2.0",
            "_view_name": "LayoutView",
            "align_content": null,
            "align_items": null,
            "align_self": null,
            "border": null,
            "bottom": null,
            "display": null,
            "flex": null,
            "flex_flow": null,
            "grid_area": null,
            "grid_auto_columns": null,
            "grid_auto_flow": null,
            "grid_auto_rows": null,
            "grid_column": null,
            "grid_gap": null,
            "grid_row": null,
            "grid_template_areas": null,
            "grid_template_columns": null,
            "grid_template_rows": null,
            "height": null,
            "justify_content": null,
            "justify_items": null,
            "left": null,
            "margin": null,
            "max_height": null,
            "max_width": null,
            "min_height": null,
            "min_width": null,
            "object_fit": null,
            "object_position": null,
            "order": null,
            "overflow": null,
            "overflow_x": null,
            "overflow_y": null,
            "padding": null,
            "right": null,
            "top": null,
            "visibility": null,
            "width": null
          }
        },
        "199d0de256ec45718fa9d32682746ca2": {
          "model_module": "@jupyter-widgets/controls",
          "model_name": "DescriptionStyleModel",
          "model_module_version": "1.5.0",
          "state": {
            "_model_module": "@jupyter-widgets/controls",
            "_model_module_version": "1.5.0",
            "_model_name": "DescriptionStyleModel",
            "_view_count": null,
            "_view_module": "@jupyter-widgets/base",
            "_view_module_version": "1.2.0",
            "_view_name": "StyleView",
            "description_width": ""
          }
        },
        "97d135dd64cf45ce9b26a86140aaacf8": {
          "model_module": "@jupyter-widgets/base",
          "model_name": "LayoutModel",
          "model_module_version": "1.2.0",
          "state": {
            "_model_module": "@jupyter-widgets/base",
            "_model_module_version": "1.2.0",
            "_model_name": "LayoutModel",
            "_view_count": null,
            "_view_module": "@jupyter-widgets/base",
            "_view_module_version": "1.2.0",
            "_view_name": "LayoutView",
            "align_content": null,
            "align_items": null,
            "align_self": null,
            "border": null,
            "bottom": null,
            "display": null,
            "flex": null,
            "flex_flow": null,
            "grid_area": null,
            "grid_auto_columns": null,
            "grid_auto_flow": null,
            "grid_auto_rows": null,
            "grid_column": null,
            "grid_gap": null,
            "grid_row": null,
            "grid_template_areas": null,
            "grid_template_columns": null,
            "grid_template_rows": null,
            "height": null,
            "justify_content": null,
            "justify_items": null,
            "left": null,
            "margin": null,
            "max_height": null,
            "max_width": null,
            "min_height": null,
            "min_width": null,
            "object_fit": null,
            "object_position": null,
            "order": null,
            "overflow": null,
            "overflow_x": null,
            "overflow_y": null,
            "padding": null,
            "right": null,
            "top": null,
            "visibility": null,
            "width": null
          }
        },
        "67f7b7caba2945fdac7702ed28e51897": {
          "model_module": "@jupyter-widgets/controls",
          "model_name": "ProgressStyleModel",
          "model_module_version": "1.5.0",
          "state": {
            "_model_module": "@jupyter-widgets/controls",
            "_model_module_version": "1.5.0",
            "_model_name": "ProgressStyleModel",
            "_view_count": null,
            "_view_module": "@jupyter-widgets/base",
            "_view_module_version": "1.2.0",
            "_view_name": "StyleView",
            "bar_color": null,
            "description_width": ""
          }
        },
        "851da3801e4d427da034c4c29bc0d167": {
          "model_module": "@jupyter-widgets/base",
          "model_name": "LayoutModel",
          "model_module_version": "1.2.0",
          "state": {
            "_model_module": "@jupyter-widgets/base",
            "_model_module_version": "1.2.0",
            "_model_name": "LayoutModel",
            "_view_count": null,
            "_view_module": "@jupyter-widgets/base",
            "_view_module_version": "1.2.0",
            "_view_name": "LayoutView",
            "align_content": null,
            "align_items": null,
            "align_self": null,
            "border": null,
            "bottom": null,
            "display": null,
            "flex": null,
            "flex_flow": null,
            "grid_area": null,
            "grid_auto_columns": null,
            "grid_auto_flow": null,
            "grid_auto_rows": null,
            "grid_column": null,
            "grid_gap": null,
            "grid_row": null,
            "grid_template_areas": null,
            "grid_template_columns": null,
            "grid_template_rows": null,
            "height": null,
            "justify_content": null,
            "justify_items": null,
            "left": null,
            "margin": null,
            "max_height": null,
            "max_width": null,
            "min_height": null,
            "min_width": null,
            "object_fit": null,
            "object_position": null,
            "order": null,
            "overflow": null,
            "overflow_x": null,
            "overflow_y": null,
            "padding": null,
            "right": null,
            "top": null,
            "visibility": null,
            "width": null
          }
        },
        "65e5438e09a044908b804b4e0fffd3b7": {
          "model_module": "@jupyter-widgets/controls",
          "model_name": "DescriptionStyleModel",
          "model_module_version": "1.5.0",
          "state": {
            "_model_module": "@jupyter-widgets/controls",
            "_model_module_version": "1.5.0",
            "_model_name": "DescriptionStyleModel",
            "_view_count": null,
            "_view_module": "@jupyter-widgets/base",
            "_view_module_version": "1.2.0",
            "_view_name": "StyleView",
            "description_width": ""
          }
        }
      }
    }
  },
  "cells": [
    {
      "cell_type": "markdown",
      "metadata": {
        "id": "view-in-github",
        "colab_type": "text"
      },
      "source": [
        "<a href=\"https://colab.research.google.com/github/s83512266/Tibame_AI_111-2_group2_project/blob/main/classification_model.ipynb\" target=\"_parent\"><img src=\"https://colab.research.google.com/assets/colab-badge.svg\" alt=\"Open In Colab\"/></a>"
      ]
    },
    {
      "cell_type": "code",
      "execution_count": null,
      "metadata": {
        "id": "jWyjISRykCqI"
      },
      "outputs": [],
      "source": [
        "import numpy as np\n",
        "import cv2\n",
        "import matplotlib.pyplot as plt # seaborn\n",
        "from PIL import Image\n",
        "\n",
        "import os # file path\n",
        "from glob import glob # search files\n",
        "from tqdm.auto import tqdm # progress bar\n",
        "\n",
        "import tensorflow as tf\n",
        "from tensorflow.keras import layers, models, utils\n",
        "\n",
        "from sklearn.model_selection import train_test_split"
      ]
    },
    {
      "cell_type": "markdown",
      "source": [
        "**Read one image**"
      ],
      "metadata": {
        "id": "6IN6a4VHsp1Q"
      }
    },
    {
      "cell_type": "code",
      "source": [
        "IMG_SIZE = 256 # 256 128 64\n",
        "\n",
        "all_class = ['MD', 'MA']\n",
        "class_map = {cls: i for i, cls in enumerate(all_class)} #  'normal':0, 'bacteria': 1, 'virus':2\n",
        "class_map"
      ],
      "metadata": {
        "colab": {
          "base_uri": "https://localhost:8080/"
        },
        "id": "OD6ZkC4umF76",
        "outputId": "4b2d2c92-fc40-4990-8941-e0d6d1313f1c"
      },
      "execution_count": null,
      "outputs": [
        {
          "output_type": "execute_result",
          "data": {
            "text/plain": [
              "{'MD': 0, 'MA': 1}"
            ]
          },
          "metadata": {},
          "execution_count": 25
        }
      ]
    },
    {
      "cell_type": "code",
      "source": [
        "MD_path = glob(\"/content/drive/MyDrive/(a)龜背芋正常 (含幼葉、成熟葉)/截圖成正方形之圖片/截圖中間/*\")\n",
        "MA_path = glob('/content/drive/MyDrive/圖片/(i)非龜背芋種/龜背芋屬/窗口龜(洞洞蔓絲絨)/*.jpg')\n",
        "\n",
        "img_paths_train = MD_path + MA_path\n",
        "\n",
        "MD_path_test = glob(\"/content/drive/MyDrive/圖片/大家的照片/貞穎/正常龜背芋/*.jpeg\")\n",
        "MA_path_test = glob(\"/content/drive/MyDrive/圖片/大家的照片/貞穎/窗孔龜背芋/*.jpeg\")\n",
        "img_paths_test = MD_path_test + MA_path_test"
      ],
      "metadata": {
        "id": "ugHl2tTwmkwK"
      },
      "execution_count": null,
      "outputs": []
    },
    {
      "cell_type": "code",
      "source": [
        "# number of images\n",
        "len(img_paths_train), len(img_paths_test)"
      ],
      "metadata": {
        "colab": {
          "base_uri": "https://localhost:8080/"
        },
        "id": "3e_tuTtZmztd",
        "outputId": "75c09a1d-5b2a-47bd-ba64-5caed19f172b"
      },
      "execution_count": null,
      "outputs": [
        {
          "output_type": "execute_result",
          "data": {
            "text/plain": [
              "(182, 96)"
            ]
          },
          "metadata": {},
          "execution_count": 27
        }
      ]
    },
    {
      "cell_type": "code",
      "source": [
        "# show image\n",
        "path = img_paths_test[0]\n",
        "img = cv2.imread(path)\n",
        "img = cv2.cvtColor(img, cv2.COLOR_BGR2RGB)\n",
        "print(path)\n",
        "print(img.shape)\n",
        "plt.imshow(img)\n",
        "plt.show()"
      ],
      "metadata": {
        "colab": {
          "base_uri": "https://localhost:8080/",
          "height": 305
        },
        "id": "pdoVAHxjnwcz",
        "outputId": "c5180c86-0c55-46e2-ee0f-12888a35944e"
      },
      "execution_count": null,
      "outputs": [
        {
          "output_type": "stream",
          "name": "stdout",
          "text": [
            "/content/drive/MyDrive/圖片/大家的照片/貞穎/正常龜背芋/65873535_1254896871328000_8230942761335914496_n.jpeg\n",
            "(960, 720, 3)\n"
          ]
        },
        {
          "output_type": "display_data",
          "data": {
            "text/plain": [
              "<Figure size 432x288 with 1 Axes>"
            ],
            "image/png": "[encoded data removed]"
          },
          "metadata": {
            "needs_background": "light"
          }
        }
      ]
    },
    {
      "cell_type": "code",
      "source": [
        "# Resize  img\n",
        "img_resized = cv2.resize(img, (IMG_SIZE, IMG_SIZE))\n",
        "plt.imshow(img_resized)\n",
        "img.shape, img_resized.shape"
      ],
      "metadata": {
        "colab": {
          "base_uri": "https://localhost:8080/",
          "height": 287
        },
        "id": "AajzHmQRpXh8",
        "outputId": "bc935d50-277d-4cb8-89f3-4c8c75467c37"
      },
      "execution_count": null,
      "outputs": [
        {
          "output_type": "execute_result",
          "data": {
            "text/plain": [
              "((960, 720, 3), (256, 256, 3))"
            ]
          },
          "metadata": {},
          "execution_count": 29
        },
        {
          "output_type": "display_data",
          "data": {
            "text/plain": [
              "<Figure size 432x288 with 1 Axes>"
            ],
            "image/png": "[encoded data removed]"
          },
          "metadata": {
            "needs_background": "light"
          }
        }
      ]
    },
    {
      "cell_type": "code",
      "source": [
        "# Extract img class\n",
        "# os.sep: /\n",
        "print(path)\n",
        "cls = path.split(os.sep)[-4]\n",
        "print(cls)"
      ],
      "metadata": {
        "colab": {
          "base_uri": "https://localhost:8080/"
        },
        "id": "6nQIfQmiqoNG",
        "outputId": "ddea8b5d-1629-4696-b6f1-c80af34523d0"
      },
      "execution_count": null,
      "outputs": [
        {
          "output_type": "stream",
          "name": "stdout",
          "text": [
            "/content/drive/MyDrive/圖片/大家的照片/貞穎/正常龜背芋/65873535_1254896871328000_8230942761335914496_n.jpeg\n",
            "大家的照片\n"
          ]
        }
      ]
    },
    {
      "cell_type": "code",
      "source": [
        "# Extract img class\n",
        "# os.sep: /\n",
        "print(path)\n",
        "cls_test = path.split(os.sep)[-2]\n",
        "print(cls_test)"
      ],
      "metadata": {
        "colab": {
          "base_uri": "https://localhost:8080/"
        },
        "id": "s8507Du42BLc",
        "outputId": "53d586be-87ec-4b41-8d9d-b832b43b7f03"
      },
      "execution_count": null,
      "outputs": [
        {
          "output_type": "stream",
          "name": "stdout",
          "text": [
            "/content/drive/MyDrive/圖片/大家的照片/貞穎/正常龜背芋/65873535_1254896871328000_8230942761335914496_n.jpeg\n",
            "正常龜背芋\n"
          ]
        }
      ]
    },
    {
      "cell_type": "code",
      "source": [
        "# Get file class index for train\n",
        "\n",
        "# for MA class\n",
        "if cls == '(i)非龜背芋種':\n",
        "    cls_idx = class_map[\"MA\"]\n",
        "    print(cls_idx)\n",
        "# for MD class\n",
        "else:\n",
        "    cls_idx = class_map[\"MD\"]\n",
        "    print(cls_idx)"
      ],
      "metadata": {
        "colab": {
          "base_uri": "https://localhost:8080/"
        },
        "id": "ALW1UQ0qqKUz",
        "outputId": "441f03b8-478f-453e-b30d-b86b70e6c9eb"
      },
      "execution_count": null,
      "outputs": [
        {
          "output_type": "stream",
          "name": "stdout",
          "text": [
            "0\n"
          ]
        }
      ]
    },
    {
      "cell_type": "code",
      "source": [
        "# Get file class index for test\n",
        "\n",
        "# for MA class\n",
        "if cls == '窗孔龜背芋':\n",
        "    cls_idx = class_map[\"MA\"]\n",
        "    print(cls_idx)\n",
        "# for MD class\n",
        "else:\n",
        "    cls_idx = class_map[\"MD\"]\n",
        "    print(cls_idx)"
      ],
      "metadata": {
        "colab": {
          "base_uri": "https://localhost:8080/"
        },
        "id": "cTksrXkG2TKx",
        "outputId": "8cf2727b-161d-4439-b9e6-59da2a611a96"
      },
      "execution_count": null,
      "outputs": [
        {
          "output_type": "stream",
          "name": "stdout",
          "text": [
            "0\n"
          ]
        }
      ]
    },
    {
      "cell_type": "markdown",
      "source": [
        "**Read all images**"
      ],
      "metadata": {
        "id": "Qamr0wsGs_oR"
      }
    },
    {
      "cell_type": "code",
      "source": [
        "def read_data(paths):\n",
        "    data_count = len(paths)\n",
        "    x = np.zeros((data_count, IMG_SIZE, IMG_SIZE, 3)) # model input\n",
        "    y = np.zeros((data_count, )) # answer\n",
        "\n",
        "    for i, path in enumerate(tqdm(paths)):\n",
        "        # read image\n",
        "        img = cv2.imread(path) # (H, W, 3)\n",
        "        img = cv2.resize(img, (IMG_SIZE, IMG_SIZE)) # resize\n",
        "        # Normalization\n",
        "        img = img / 255. # 0~255 -> 0~1\n",
        "\n",
        "        # read class index\n",
        "        cls = path.split(os.sep)[-4]\n",
        "        # for MA class\n",
        "        if cls == '(i)非龜背芋種':\n",
        "            cls_idx = class_map[\"MA\"]\n",
        "        # for MD class\n",
        "        else:\n",
        "            cls_idx = class_map[\"MD\"]\n",
        "        \n",
        "        x[i] = img\n",
        "        y[i] = cls_idx\n",
        "    return x, y\n",
        "\n",
        "def read_test_data(paths):\n",
        "    data_count = len(paths)\n",
        "    x = np.zeros((data_count, IMG_SIZE, IMG_SIZE, 3)) # model input\n",
        "    y = np.zeros((data_count, )) # answer\n",
        "\n",
        "    for i, path in enumerate(tqdm(paths)):\n",
        "        # read image\n",
        "        img = cv2.imread(path) # (H, W, 3)\n",
        "        img = cv2.resize(img, (IMG_SIZE, IMG_SIZE)) # resize\n",
        "        # Normalization\n",
        "        img = img / 255. # 0~255 -> 0~1\n",
        "\n",
        "        # read class index\n",
        "        cls = path.split(os.sep)[-2]\n",
        "        # for MA class\n",
        "        if cls == '窗孔龜背芋':\n",
        "            cls_idx = class_map[\"MA\"]\n",
        "        # for MD class\n",
        "        else:\n",
        "            cls_idx = class_map[\"MD\"]\n",
        "        \n",
        "        x[i] = img\n",
        "        y[i] = cls_idx\n",
        "    return x, y"
      ],
      "metadata": {
        "id": "5KKbLJN1tEjP"
      },
      "execution_count": null,
      "outputs": []
    },
    {
      "cell_type": "code",
      "source": [
        "x_train, y_train = read_data(img_paths_train)\n",
        "x_test, y_test = read_test_data(img_paths_test)"
      ],
      "metadata": {
        "colab": {
          "base_uri": "https://localhost:8080/",
          "height": 81,
          "referenced_widgets": [
            "d65580df466e49189d82661ea06d73f3",
            "7f76a598c3054c698742141da8ef8f2a",
            "0cf2f19ca357445bbc0b9220eb61c1c9",
            "2b877435b6064ea88883d448ef0f74ea",
            "8fa37fc62a8940c1927fa537cda3a927",
            "70bc5bfe5c1c4594a6c7d6787abd8155",
            "74e7586f32814c71a66683ed620367cc",
            "cc4177f197114c73bf2ba98b3ef25316",
            "f2d09eaec7f44fbd9fcaea0dba6f97a7",
            "b075d936cccd46b1911e2f904002e386",
            "60cadbbef4e6492282a5560cd2051231",
            "fdfa8435b351484ba319794e494caf90",
            "42f96c3bb7844781917a936ded12a874",
            "e85fcf3188c24e28ac67cdd80ef73e53",
            "cf2e3c8b974348dfbadf32904d0db22a",
            "6a8e0cb15b4a4d0b92e8ab47508afbed",
            "de1f4fb6f959412baf351d74475a1cd5",
            "199d0de256ec45718fa9d32682746ca2",
            "97d135dd64cf45ce9b26a86140aaacf8",
            "67f7b7caba2945fdac7702ed28e51897",
            "851da3801e4d427da034c4c29bc0d167",
            "65e5438e09a044908b804b4e0fffd3b7"
          ]
        },
        "id": "SAF5L0gOwPIj",
        "outputId": "357b3d8b-452d-4b97-dcf0-3dbeff08e989"
      },
      "execution_count": null,
      "outputs": [
        {
          "output_type": "display_data",
          "data": {
            "text/plain": [
              "  0%|          | 0/182 [00:00<?, ?it/s]"
            ],
            "application/vnd.jupyter.widget-view+json": {
              "version_major": 2,
              "version_minor": 0,
              "model_id": "d65580df466e49189d82661ea06d73f3"
            }
          },
          "metadata": {}
        },
        {
          "output_type": "display_data",
          "data": {
            "text/plain": [
              "  0%|          | 0/96 [00:00<?, ?it/s]"
            ],
            "application/vnd.jupyter.widget-view+json": {
              "version_major": 2,
              "version_minor": 0,
              "model_id": "fdfa8435b351484ba319794e494caf90"
            }
          },
          "metadata": {}
        }
      ]
    },
    {
      "cell_type": "code",
      "source": [
        "x_train.shape, y_train.shape"
      ],
      "metadata": {
        "colab": {
          "base_uri": "https://localhost:8080/"
        },
        "id": "DwVnhU0PzaK_",
        "outputId": "5e739e06-1206-48b7-fc2f-1713b8000cd6"
      },
      "execution_count": null,
      "outputs": [
        {
          "output_type": "execute_result",
          "data": {
            "text/plain": [
              "((182, 256, 256, 3), (182,))"
            ]
          },
          "metadata": {},
          "execution_count": 36
        }
      ]
    },
    {
      "cell_type": "code",
      "source": [
        "# label count\n",
        "print(all_class)\n",
        "# train\n",
        "unique_classes, counts = np.unique(y_train, return_counts=True)\n",
        "print(unique_classes, counts)\n",
        "\n",
        "# test\n",
        "unique_classes, counts = np.unique(y_test, return_counts=True)\n",
        "print(unique_classes, counts)"
      ],
      "metadata": {
        "colab": {
          "base_uri": "https://localhost:8080/"
        },
        "id": "DYTgdLVa0TS8",
        "outputId": "27606018-1011-42b4-8726-a5aaf8a94b22"
      },
      "execution_count": null,
      "outputs": [
        {
          "output_type": "stream",
          "name": "stdout",
          "text": [
            "['MD', 'MA']\n",
            "[0. 1.] [148  34]\n",
            "[0. 1.] [86 10]\n"
          ]
        }
      ]
    },
    {
      "cell_type": "code",
      "source": [
        "from sklearn.model_selection import train_test_split\n",
        "# split train and test dataset\n",
        "# 90%x, 10%x, 90%y, 10%y\n",
        "x_train, x_val, y_train, y_val = train_test_split(x_train, y_train, test_size=0.1)\n",
        "x_train.shape, x_val.shape, y_train.shape, y_val.shape"
      ],
      "metadata": {
        "colab": {
          "base_uri": "https://localhost:8080/"
        },
        "id": "N_nOQ4TizU5K",
        "outputId": "34e34c1b-871f-403c-f15b-0f067b8c0b67"
      },
      "execution_count": null,
      "outputs": [
        {
          "output_type": "execute_result",
          "data": {
            "text/plain": [
              "((163, 256, 256, 3), (19, 256, 256, 3), (163,), (19,))"
            ]
          },
          "metadata": {},
          "execution_count": 38
        }
      ]
    },
    {
      "cell_type": "code",
      "source": [
        "# one-hot encoding\n",
        "y_train = utils.to_categorical(y_train, num_classes=len(class_map))\n",
        "y_val = utils.to_categorical(y_val, num_classes=len(class_map))\n",
        "y_test = utils.to_categorical(y_test, num_classes=len(class_map))"
      ],
      "metadata": {
        "id": "vffxxfd94hzw"
      },
      "execution_count": null,
      "outputs": []
    },
    {
      "cell_type": "code",
      "source": [
        "y_train.shape, y_val.shape, y_test.shape"
      ],
      "metadata": {
        "colab": {
          "base_uri": "https://localhost:8080/"
        },
        "id": "tM0tNgzV4tlU",
        "outputId": "47ddaf3b-d742-48b8-cefe-57c743916568"
      },
      "execution_count": null,
      "outputs": [
        {
          "output_type": "execute_result",
          "data": {
            "text/plain": [
              "((163, 2), (19, 2), (96, 2))"
            ]
          },
          "metadata": {},
          "execution_count": 40
        }
      ]
    },
    {
      "cell_type": "markdown",
      "source": [
        "**Build model**"
      ],
      "metadata": {
        "id": "O7s-dGHY46iw"
      }
    },
    {
      "cell_type": "code",
      "source": [
        "# Conv, BN, Activation\n",
        "class ConvBN(layers.Layer):\n",
        "    def __init__(self, filters, kernel_size):\n",
        "        super().__init__()\n",
        "        self.conv = layers.Conv2D(filters, kernel_size, padding=\"same\")\n",
        "        self.normalization = layers.BatchNormalization()\n",
        "        self.act = layers.LeakyReLU()\n",
        "\n",
        "    def call(self, x):\n",
        "        x = self.conv(x)\n",
        "        x = self.normalization(x)\n",
        "        return self.act(x)"
      ],
      "metadata": {
        "id": "85W1bOBT97Jc"
      },
      "execution_count": null,
      "outputs": []
    },
    {
      "cell_type": "code",
      "source": [
        "class MyModel(tf.keras.models.Model):\n",
        "    def __init__(self):\n",
        "        super().__init__()\n",
        "        self.encoder = models.Sequential([\n",
        "            ConvBN(64, 3),\n",
        "            ConvBN(64, 3),\n",
        "            layers.MaxPool2D(2),\n",
        "            ConvBN(128, 3),\n",
        "            ConvBN(128, 3),\n",
        "            layers.MaxPool2D(2),\n",
        "            ConvBN(256, 3),\n",
        "            ConvBN(256, 3),\n",
        "            layers.MaxPool2D(2),\n",
        "        ])\n",
        "        # self.flatten = layers.Flatten()\n",
        "        self.flatten = layers.GlobalAveragePooling2D()\n",
        "        self.classifier = models.Sequential([\n",
        "            layers.Dense(64, activation='relu'),\n",
        "            layers.Dense(2, activation='softmax')               \n",
        "        ])\n",
        "\n",
        "    def call(self, x):\n",
        "        print(\"Start call\")\n",
        "        x = self.encoder(x)\n",
        "        x = self.flatten(x)\n",
        "        x = self.classifier(x)\n",
        "        return x\n",
        "\n",
        "\n",
        "model = MyModel()\n",
        "model.build((1, IMG_SIZE, IMG_SIZE, 3)) # (BS, H, W, C)"
      ],
      "metadata": {
        "colab": {
          "base_uri": "https://localhost:8080/"
        },
        "id": "dz5o8pHZ45LL",
        "outputId": "fa925a23-64f5-4dfc-e905-2d671fe4f902"
      },
      "execution_count": null,
      "outputs": [
        {
          "output_type": "stream",
          "name": "stdout",
          "text": [
            "Start call\n"
          ]
        }
      ]
    },
    {
      "cell_type": "code",
      "source": [
        "model.encoder.summary()\n",
        "model.classifier.summary()"
      ],
      "metadata": {
        "colab": {
          "base_uri": "https://localhost:8080/"
        },
        "id": "F6wAv09N5tMB",
        "outputId": "2ce015f9-8ceb-4773-99ed-101b2deb4a40"
      },
      "execution_count": null,
      "outputs": [
        {
          "output_type": "stream",
          "name": "stdout",
          "text": [
            "Model: \"sequential_2\"\n",
            "_________________________________________________________________\n",
            " Layer (type)                Output Shape              Param #   \n",
            "=================================================================\n",
            " conv_bn_6 (ConvBN)          (1, 256, 256, 64)         2048      \n",
            "                                                                 \n",
            " conv_bn_7 (ConvBN)          (1, 256, 256, 64)         37184     \n",
            "                                                                 \n",
            " max_pooling2d_3 (MaxPooling  (1, 128, 128, 64)        0         \n",
            " 2D)                                                             \n",
            "                                                                 \n",
            " conv_bn_8 (ConvBN)          (1, 128, 128, 128)        74368     \n",
            "                                                                 \n",
            " conv_bn_9 (ConvBN)          (1, 128, 128, 128)        148096    \n",
            "                                                                 \n",
            " max_pooling2d_4 (MaxPooling  (1, 64, 64, 128)         0         \n",
            " 2D)                                                             \n",
            "                                                                 \n",
            " conv_bn_10 (ConvBN)         (1, 64, 64, 256)          296192    \n",
            "                                                                 \n",
            " conv_bn_11 (ConvBN)         (1, 64, 64, 256)          591104    \n",
            "                                                                 \n",
            " max_pooling2d_5 (MaxPooling  (1, 32, 32, 256)         0         \n",
            " 2D)                                                             \n",
            "                                                                 \n",
            "=================================================================\n",
            "Total params: 1,148,992\n",
            "Trainable params: 1,147,200\n",
            "Non-trainable params: 1,792\n",
            "_________________________________________________________________\n",
            "Model: \"sequential_3\"\n",
            "_________________________________________________________________\n",
            " Layer (type)                Output Shape              Param #   \n",
            "=================================================================\n",
            " dense_2 (Dense)             (1, 64)                   16448     \n",
            "                                                                 \n",
            " dense_3 (Dense)             (1, 2)                    130       \n",
            "                                                                 \n",
            "=================================================================\n",
            "Total params: 16,578\n",
            "Trainable params: 16,578\n",
            "Non-trainable params: 0\n",
            "_________________________________________________________________\n"
          ]
        }
      ]
    },
    {
      "cell_type": "markdown",
      "source": [
        "**Training model**"
      ],
      "metadata": {
        "id": "TViCCDp476K9"
      }
    },
    {
      "cell_type": "code",
      "source": [
        "# y_train是one-hot encoding，不能使用SparseCategoricalCrossentropy()\n",
        "model.compile(loss=tf.keras.losses.CategoricalCrossentropy(),\n",
        "              optimizer=tf.keras.optimizers.Adam(),\n",
        "              metrics=['accuracy'])"
      ],
      "metadata": {
        "id": "GgCRRFUZ71SV"
      },
      "execution_count": null,
      "outputs": []
    },
    {
      "cell_type": "code",
      "source": [
        "from tensorflow.keras.callbacks import EarlyStopping, ModelCheckpoint\n",
        "callbacks = [\n",
        "    # ModelCheckpoint(\"best.h5\", save_best_only=True),\n",
        "    # subclassed models不能使用ModelCheckpoint存模型\n",
        "    EarlyStopping(patience=5, restore_best_weights=True)\n",
        "]"
      ],
      "metadata": {
        "id": "rMGEJiWW8ZSp"
      },
      "execution_count": null,
      "outputs": []
    },
    {
      "cell_type": "code",
      "source": [
        "logs = model.fit(x_train, y_train,\n",
        "          batch_size=4,\n",
        "          epochs=50,\n",
        "          validation_data=(x_val, y_val),\n",
        "          callbacks=callbacks\n",
        "    )"
      ],
      "metadata": {
        "colab": {
          "base_uri": "https://localhost:8080/"
        },
        "id": "fda00m3y86dm",
        "outputId": "d4b679ab-45c5-425d-d875-40e1285344b6"
      },
      "execution_count": null,
      "outputs": [
        {
          "output_type": "stream",
          "name": "stdout",
          "text": [
            "Epoch 1/50\n",
            "Start call\n",
            "Start call\n",
            "41/41 [==============================] - ETA: 0s - loss: 0.5132 - accuracy: 0.7669Start call\n",
            "41/41 [==============================] - 240s 6s/step - loss: 0.5132 - accuracy: 0.7669 - val_loss: 0.5763 - val_accuracy: 0.9474\n",
            "Epoch 2/50\n",
            "41/41 [==============================] - 239s 6s/step - loss: 0.3784 - accuracy: 0.8037 - val_loss: 0.5810 - val_accuracy: 0.9474\n",
            "Epoch 3/50\n",
            "41/41 [==============================] - 235s 6s/step - loss: 0.3753 - accuracy: 0.8405 - val_loss: 0.4462 - val_accuracy: 0.9474\n",
            "Epoch 4/50\n",
            "41/41 [==============================] - 237s 6s/step - loss: 0.2749 - accuracy: 0.9018 - val_loss: 0.1737 - val_accuracy: 0.9474\n",
            "Epoch 5/50\n",
            "41/41 [==============================] - 239s 6s/step - loss: 0.2791 - accuracy: 0.8957 - val_loss: 0.2368 - val_accuracy: 0.9474\n",
            "Epoch 6/50\n",
            "41/41 [==============================] - 235s 6s/step - loss: 0.3346 - accuracy: 0.8712 - val_loss: 0.2630 - val_accuracy: 0.9474\n",
            "Epoch 7/50\n",
            "41/41 [==============================] - 237s 6s/step - loss: 0.3300 - accuracy: 0.8773 - val_loss: 0.2151 - val_accuracy: 0.9474\n",
            "Epoch 8/50\n",
            "41/41 [==============================] - 238s 6s/step - loss: 0.3627 - accuracy: 0.8344 - val_loss: 0.2328 - val_accuracy: 0.9474\n",
            "Epoch 9/50\n",
            "41/41 [==============================] - 238s 6s/step - loss: 0.2774 - accuracy: 0.8712 - val_loss: 0.2190 - val_accuracy: 0.9474\n",
            "Epoch 10/50\n",
            "41/41 [==============================] - 235s 6s/step - loss: 0.2509 - accuracy: 0.8957 - val_loss: 0.0491 - val_accuracy: 1.0000\n",
            "Epoch 11/50\n",
            "41/41 [==============================] - 240s 6s/step - loss: 0.2081 - accuracy: 0.9202 - val_loss: 0.8225 - val_accuracy: 0.4737\n",
            "Epoch 12/50\n",
            "41/41 [==============================] - 236s 6s/step - loss: 0.2546 - accuracy: 0.9018 - val_loss: 0.1362 - val_accuracy: 1.0000\n",
            "Epoch 13/50\n",
            "41/41 [==============================] - 236s 6s/step - loss: 0.2358 - accuracy: 0.8957 - val_loss: 0.1944 - val_accuracy: 0.9474\n",
            "Epoch 14/50\n",
            "41/41 [==============================] - 238s 6s/step - loss: 0.2723 - accuracy: 0.8896 - val_loss: 0.0810 - val_accuracy: 0.9474\n",
            "Epoch 15/50\n",
            "41/41 [==============================] - 243s 6s/step - loss: 0.2215 - accuracy: 0.9080 - val_loss: 0.1104 - val_accuracy: 0.9474\n",
            "Epoch 16/50\n",
            "41/41 [==============================] - 237s 6s/step - loss: 0.2250 - accuracy: 0.9018 - val_loss: 0.0634 - val_accuracy: 0.9474\n",
            "Epoch 17/50\n",
            "41/41 [==============================] - 239s 6s/step - loss: 0.2653 - accuracy: 0.8834 - val_loss: 0.0459 - val_accuracy: 0.9474\n",
            "Epoch 18/50\n",
            "41/41 [==============================] - 237s 6s/step - loss: 0.2745 - accuracy: 0.8896 - val_loss: 0.5329 - val_accuracy: 0.9474\n",
            "Epoch 19/50\n",
            "41/41 [==============================] - 238s 6s/step - loss: 0.2008 - accuracy: 0.9325 - val_loss: 0.2364 - val_accuracy: 0.9474\n",
            "Epoch 20/50\n",
            "41/41 [==============================] - 239s 6s/step - loss: 0.2716 - accuracy: 0.8957 - val_loss: 0.8297 - val_accuracy: 0.6842\n",
            "Epoch 21/50\n",
            "41/41 [==============================] - 234s 6s/step - loss: 0.2608 - accuracy: 0.8957 - val_loss: 0.0971 - val_accuracy: 0.9474\n",
            "Epoch 22/50\n",
            "41/41 [==============================] - 237s 6s/step - loss: 0.2103 - accuracy: 0.9264 - val_loss: 0.0723 - val_accuracy: 0.9474\n",
            "Epoch 23/50\n",
            "41/41 [==============================] - 237s 6s/step - loss: 0.1980 - accuracy: 0.9264 - val_loss: 0.9204 - val_accuracy: 0.6316\n",
            "Epoch 24/50\n",
            "41/41 [==============================] - 236s 6s/step - loss: 0.2415 - accuracy: 0.9202 - val_loss: 0.0634 - val_accuracy: 0.9474\n",
            "Epoch 25/50\n",
            "41/41 [==============================] - 236s 6s/step - loss: 0.1984 - accuracy: 0.9202 - val_loss: 0.0289 - val_accuracy: 1.0000\n",
            "Epoch 26/50\n",
            "41/41 [==============================] - 238s 6s/step - loss: 0.1936 - accuracy: 0.9202 - val_loss: 0.2665 - val_accuracy: 0.8947\n",
            "Epoch 27/50\n",
            "41/41 [==============================] - 238s 6s/step - loss: 0.1857 - accuracy: 0.9141 - val_loss: 0.2322 - val_accuracy: 0.9474\n",
            "Epoch 28/50\n",
            "41/41 [==============================] - 236s 6s/step - loss: 0.2260 - accuracy: 0.8957 - val_loss: 0.0840 - val_accuracy: 0.9474\n",
            "Epoch 29/50\n",
            "41/41 [==============================] - 237s 6s/step - loss: 0.1299 - accuracy: 0.9387 - val_loss: 0.1774 - val_accuracy: 0.9474\n",
            "Epoch 30/50\n",
            "41/41 [==============================] - 236s 6s/step - loss: 0.1244 - accuracy: 0.9509 - val_loss: 0.0298 - val_accuracy: 1.0000\n",
            "Epoch 31/50\n",
            "41/41 [==============================] - 237s 6s/step - loss: 0.2077 - accuracy: 0.9264 - val_loss: 0.3642 - val_accuracy: 0.7368\n",
            "Epoch 32/50\n",
            "41/41 [==============================] - 236s 6s/step - loss: 0.1387 - accuracy: 0.9571 - val_loss: 0.2865 - val_accuracy: 0.9474\n",
            "Epoch 33/50\n",
            "41/41 [==============================] - 236s 6s/step - loss: 0.1298 - accuracy: 0.9693 - val_loss: 0.1835 - val_accuracy: 0.9474\n",
            "Epoch 34/50\n",
            "41/41 [==============================] - 236s 6s/step - loss: 0.1975 - accuracy: 0.9264 - val_loss: 0.0533 - val_accuracy: 1.0000\n",
            "Epoch 35/50\n",
            "41/41 [==============================] - 235s 6s/step - loss: 0.2389 - accuracy: 0.9018 - val_loss: 0.0254 - val_accuracy: 1.0000\n",
            "Epoch 36/50\n",
            "41/41 [==============================] - 235s 6s/step - loss: 0.1362 - accuracy: 0.9509 - val_loss: 0.1708 - val_accuracy: 0.9474\n",
            "Epoch 37/50\n",
            "41/41 [==============================] - 233s 6s/step - loss: 0.1585 - accuracy: 0.9264 - val_loss: 0.2555 - val_accuracy: 0.9474\n",
            "Epoch 38/50\n",
            "41/41 [==============================] - 236s 6s/step - loss: 0.1296 - accuracy: 0.9387 - val_loss: 1.3062 - val_accuracy: 0.5263\n",
            "Epoch 39/50\n",
            "41/41 [==============================] - 235s 6s/step - loss: 0.3099 - accuracy: 0.8773 - val_loss: 2.8163 - val_accuracy: 0.1579\n",
            "Epoch 40/50\n",
            "41/41 [==============================] - 235s 6s/step - loss: 0.1447 - accuracy: 0.9325 - val_loss: 0.0261 - val_accuracy: 1.0000\n",
            "Epoch 41/50\n",
            "41/41 [==============================] - 235s 6s/step - loss: 0.1662 - accuracy: 0.9325 - val_loss: 0.0242 - val_accuracy: 1.0000\n",
            "Epoch 42/50\n",
            "41/41 [==============================] - 233s 6s/step - loss: 0.1752 - accuracy: 0.9325 - val_loss: 0.3102 - val_accuracy: 0.9474\n",
            "Epoch 43/50\n",
            "41/41 [==============================] - 233s 6s/step - loss: 0.1469 - accuracy: 0.9448 - val_loss: 0.0054 - val_accuracy: 1.0000\n",
            "Epoch 44/50\n",
            "41/41 [==============================] - 236s 6s/step - loss: 0.1908 - accuracy: 0.9325 - val_loss: 0.1431 - val_accuracy: 0.9474\n",
            "Epoch 45/50\n",
            "41/41 [==============================] - 234s 6s/step - loss: 0.1308 - accuracy: 0.9571 - val_loss: 0.0271 - val_accuracy: 1.0000\n",
            "Epoch 46/50\n",
            "41/41 [==============================] - 236s 6s/step - loss: 0.2036 - accuracy: 0.9018 - val_loss: 0.1635 - val_accuracy: 0.9474\n",
            "Epoch 47/50\n",
            "41/41 [==============================] - 239s 6s/step - loss: 0.1393 - accuracy: 0.9448 - val_loss: 0.5114 - val_accuracy: 0.8421\n",
            "Epoch 48/50\n",
            "41/41 [==============================] - 238s 6s/step - loss: 0.1375 - accuracy: 0.9509 - val_loss: 0.7994 - val_accuracy: 0.6842\n",
            "Epoch 49/50\n",
            "41/41 [==============================] - 238s 6s/step - loss: 0.1559 - accuracy: 0.9632 - val_loss: 0.3075 - val_accuracy: 0.9474\n",
            "Epoch 50/50\n",
            "41/41 [==============================] - 239s 6s/step - loss: 0.1020 - accuracy: 0.9693 - val_loss: 0.0065 - val_accuracy: 1.0000\n"
          ]
        }
      ]
    },
    {
      "cell_type": "markdown",
      "source": [
        "**Training log**"
      ],
      "metadata": {
        "id": "K5ZVa73M_L51"
      }
    },
    {
      "cell_type": "code",
      "source": [
        "history = logs.history\n",
        "min_loss_epoch = np.argmin(history['val_loss'])\n",
        "print('min_loss_epoch: ', min_loss_epoch+1)\n",
        "print('val loss ', history['val_loss'][min_loss_epoch])\n",
        "print('val acc', history['val_accuracy'][min_loss_epoch])"
      ],
      "metadata": {
        "colab": {
          "base_uri": "https://localhost:8080/"
        },
        "id": "pDbOhEg3_LSZ",
        "outputId": "9bc79d37-a357-436d-f668-2beba1f73997"
      },
      "execution_count": null,
      "outputs": [
        {
          "output_type": "stream",
          "name": "stdout",
          "text": [
            "min_loss_epoch:  43\n",
            "val loss  0.005435566417872906\n",
            "val acc 1.0\n"
          ]
        }
      ]
    },
    {
      "cell_type": "code",
      "source": [
        "plt.plot(history['accuracy'])\n",
        "plt.plot(history['val_accuracy'])\n",
        "plt.legend(['accuracy', 'val_accuracy'])\n",
        "plt.title('accuracy')"
      ],
      "metadata": {
        "colab": {
          "base_uri": "https://localhost:8080/",
          "height": 299
        },
        "id": "HYO8lM31_Tvv",
        "outputId": "d89e0b4e-1153-4d41-865b-1d43bc8d0459"
      },
      "execution_count": null,
      "outputs": [
        {
          "output_type": "execute_result",
          "data": {
            "text/plain": [
              "Text(0.5, 1.0, 'accuracy')"
            ]
          },
          "metadata": {},
          "execution_count": 51
        },
        {
          "output_type": "display_data",
          "data": {
            "text/plain": [
              "<Figure size 432x288 with 1 Axes>"
            ],
            "image/png": "[encoded data removed]"
          },
          "metadata": {
            "needs_background": "light"
          }
        }
      ]
    },
    {
      "cell_type": "code",
      "source": [
        "plt.plot(history['loss'])\n",
        "plt.plot(history['val_loss'])\n",
        "plt.legend(['loss', 'val_loss'])\n",
        "plt.title('loss')"
      ],
      "metadata": {
        "colab": {
          "base_uri": "https://localhost:8080/",
          "height": 299
        },
        "id": "Qj3BXjjW_X7B",
        "outputId": "16de48a7-d4d4-4237-9f9e-f5e1555a76cc"
      },
      "execution_count": null,
      "outputs": [
        {
          "output_type": "execute_result",
          "data": {
            "text/plain": [
              "Text(0.5, 1.0, 'loss')"
            ]
          },
          "metadata": {},
          "execution_count": 52
        },
        {
          "output_type": "display_data",
          "data": {
            "text/plain": [
              "<Figure size 432x288 with 1 Axes>"
            ],
            "image/png": "[encoded data removed]"
          },
          "metadata": {
            "needs_background": "light"
          }
        }
      ]
    },
    {
      "cell_type": "markdown",
      "source": [
        "**Evaluate**"
      ],
      "metadata": {
        "id": "piExL8yv_h4e"
      }
    },
    {
      "cell_type": "code",
      "source": [
        "model.evaluate(x_test, y_test)"
      ],
      "metadata": {
        "colab": {
          "base_uri": "https://localhost:8080/"
        },
        "id": "jWuKQeL1_hTv",
        "outputId": "88d4cc83-e54b-4f21-bcfb-096082af4077"
      },
      "execution_count": null,
      "outputs": [
        {
          "output_type": "stream",
          "name": "stdout",
          "text": [
            "Start call\n",
            "3/3 [==============================] - 34s 11s/step - loss: 1.4402 - accuracy: 0.6562\n"
          ]
        },
        {
          "output_type": "execute_result",
          "data": {
            "text/plain": [
              "[1.4402450323104858, 0.65625]"
            ]
          },
          "metadata": {},
          "execution_count": 53
        }
      ]
    },
    {
      "cell_type": "code",
      "source": [
        "from sklearn.metrics import classification_report, confusion_matrix\n",
        "\n",
        "y_true = np.argmax(y_test, axis=-1) # [0, 1, 2, ...]\n",
        "\n",
        "prediction = model.predict(x_test)\n",
        "y_pred = np.argmax(prediction, axis=-1) # [0, 1, 2, ...]\n",
        "\n",
        "print(y_true.shape, y_pred.shape)"
      ],
      "metadata": {
        "colab": {
          "base_uri": "https://localhost:8080/"
        },
        "id": "iAPvvP-FAA7G",
        "outputId": "a9b167e9-326b-4bdc-c9f2-fa99c4c1d18a"
      },
      "execution_count": null,
      "outputs": [
        {
          "output_type": "stream",
          "name": "stdout",
          "text": [
            "Start call\n",
            "(96,) (96,)\n"
          ]
        }
      ]
    },
    {
      "cell_type": "code",
      "source": [
        "# classification_report\n",
        "print(classification_report(y_true, y_pred))"
      ],
      "metadata": {
        "colab": {
          "base_uri": "https://localhost:8080/"
        },
        "id": "Gy8JuRi4AR1m",
        "outputId": "553c04d1-edb9-4d9f-e9a7-a4e301b0f3b4"
      },
      "execution_count": null,
      "outputs": [
        {
          "output_type": "stream",
          "name": "stdout",
          "text": [
            "              precision    recall  f1-score   support\n",
            "\n",
            "           0       0.88      0.71      0.79        86\n",
            "           1       0.07      0.20      0.11        10\n",
            "\n",
            "    accuracy                           0.66        96\n",
            "   macro avg       0.48      0.45      0.45        96\n",
            "weighted avg       0.80      0.66      0.72        96\n",
            "\n"
          ]
        }
      ]
    },
    {
      "cell_type": "code",
      "source": [
        "import pandas as pd\n",
        "# Confusion matrix:\n",
        "#   row: Ground truth\n",
        "#   column: predict\n",
        "mat = confusion_matrix(y_true, y_pred)\n",
        "pd.DataFrame(mat,\n",
        "      columns=[\"{}(predict)\".format(all_class[i]) for i in range(2)],\n",
        "      index=[\"{}(true)\".format(all_class[i]) for i in range(2)])"
      ],
      "metadata": {
        "colab": {
          "base_uri": "https://localhost:8080/",
          "height": 112
        },
        "id": "8zmGIckFASjk",
        "outputId": "5bb98599-2653-4388-ed9a-536477569e89"
      },
      "execution_count": null,
      "outputs": [
        {
          "output_type": "execute_result",
          "data": {
            "text/plain": [
              "          MD(predict)  MA(predict)\n",
              "MD(true)           61           25\n",
              "MA(true)            8            2"
            ],
            "text/html": [
              "\n",
              "  <div id=\"df-df2125b5-7c4a-4213-b8fb-863eb2811711\">\n",
              "    <div class=\"colab-df-container\">\n",
              "      <div>\n",
              "<style scoped>\n",
              "    .dataframe tbody tr th:only-of-type {\n",
              "        vertical-align: middle;\n",
              "    }\n",
              "\n",
              "    .dataframe tbody tr th {\n",
              "        vertical-align: top;\n",
              "    }\n",
              "\n",
              "    .dataframe thead th {\n",
              "        text-align: right;\n",
              "    }\n",
              "</style>\n",
              "<table border=\"1\" class=\"dataframe\">\n",
              "  <thead>\n",
              "    <tr style=\"text-align: right;\">\n",
              "      <th></th>\n",
              "      <th>MD(predict)</th>\n",
              "      <th>MA(predict)</th>\n",
              "    </tr>\n",
              "  </thead>\n",
              "  <tbody>\n",
              "    <tr>\n",
              "      <th>MD(true)</th>\n",
              "      <td>61</td>\n",
              "      <td>25</td>\n",
              "    </tr>\n",
              "    <tr>\n",
              "      <th>MA(true)</th>\n",
              "      <td>8</td>\n",
              "      <td>2</td>\n",
              "    </tr>\n",
              "  </tbody>\n",
              "</table>\n",
              "</div>\n",
              "      <button class=\"colab-df-convert\" onclick=\"convertToInteractive('df-df2125b5-7c4a-4213-b8fb-863eb2811711')\"\n",
              "              title=\"Convert this dataframe to an interactive table.\"\n",
              "              style=\"display:none;\">\n",
              "        \n",
              "  <svg xmlns=\"http://www.w3.org/2000/svg\" height=\"24px\"viewBox=\"0 0 24 24\"\n",
              "       width=\"24px\">\n",
              "    <path d=\"M0 0h24v24H0V0z\" fill=\"none\"/>\n",
              "    <path d=\"M18.56 5.44l.94 2.06.94-2.06 2.06-.94-2.06-.94-.94-2.06-.94 2.06-2.06.94zm-11 1L8.5 8.5l.94-2.06 2.06-.94-2.06-.94L8.5 2.5l-.94 2.06-2.06.94zm10 10l.94 2.06.94-2.06 2.06-.94-2.06-.94-.94-2.06-.94 2.06-2.06.94z\"/><path d=\"M17.41 7.96l-1.37-1.37c-.4-.4-.92-.59-1.43-.59-.52 0-1.04.2-1.43.59L10.3 9.45l-7.72 7.72c-.78.78-.78 2.05 0 2.83L4 21.41c.39.39.9.59 1.41.59.51 0 1.02-.2 1.41-.59l7.78-7.78 2.81-2.81c.8-.78.8-2.07 0-2.86zM5.41 20L4 18.59l7.72-7.72 1.47 1.35L5.41 20z\"/>\n",
              "  </svg>\n",
              "      </button>\n",
              "      \n",
              "  <style>\n",
              "    .colab-df-container {\n",
              "      display:flex;\n",
              "      flex-wrap:wrap;\n",
              "      gap: 12px;\n",
              "    }\n",
              "\n",
              "    .colab-df-convert {\n",
              "      background-color: #E8F0FE;\n",
              "      border: none;\n",
              "      border-radius: 50%;\n",
              "      cursor: pointer;\n",
              "      display: none;\n",
              "      fill: #1967D2;\n",
              "      height: 32px;\n",
              "      padding: 0 0 0 0;\n",
              "      width: 32px;\n",
              "    }\n",
              "\n",
              "    .colab-df-convert:hover {\n",
              "      background-color: #E2EBFA;\n",
              "      box-shadow: 0px 1px 2px rgba(60, 64, 67, 0.3), 0px 1px 3px 1px rgba(60, 64, 67, 0.15);\n",
              "      fill: #174EA6;\n",
              "    }\n",
              "\n",
              "    [theme=dark] .colab-df-convert {\n",
              "      background-color: #3B4455;\n",
              "      fill: #D2E3FC;\n",
              "    }\n",
              "\n",
              "    [theme=dark] .colab-df-convert:hover {\n",
              "      background-color: #434B5C;\n",
              "      box-shadow: 0px 1px 3px 1px rgba(0, 0, 0, 0.15);\n",
              "      filter: drop-shadow(0px 1px 2px rgba(0, 0, 0, 0.3));\n",
              "      fill: #FFFFFF;\n",
              "    }\n",
              "  </style>\n",
              "\n",
              "      <script>\n",
              "        const buttonEl =\n",
              "          document.querySelector('#df-df2125b5-7c4a-4213-b8fb-863eb2811711 button.colab-df-convert');\n",
              "        buttonEl.style.display =\n",
              "          google.colab.kernel.accessAllowed ? 'block' : 'none';\n",
              "\n",
              "        async function convertToInteractive(key) {\n",
              "          const element = document.querySelector('#df-df2125b5-7c4a-4213-b8fb-863eb2811711');\n",
              "          const dataTable =\n",
              "            await google.colab.kernel.invokeFunction('convertToInteractive',\n",
              "                                                     [key], {});\n",
              "          if (!dataTable) return;\n",
              "\n",
              "          const docLinkHtml = 'Like what you see? Visit the ' +\n",
              "            '<a target=\"_blank\" href=https://colab.research.google.com/notebooks/data_table.ipynb>data table notebook</a>'\n",
              "            + ' to learn more about interactive tables.';\n",
              "          element.innerHTML = '';\n",
              "          dataTable['output_type'] = 'display_data';\n",
              "          await google.colab.output.renderOutput(dataTable, element);\n",
              "          const docLink = document.createElement('div');\n",
              "          docLink.innerHTML = docLinkHtml;\n",
              "          element.appendChild(docLink);\n",
              "        }\n",
              "      </script>\n",
              "    </div>\n",
              "  </div>\n",
              "  "
            ]
          },
          "metadata": {},
          "execution_count": 57
        }
      ]
    },
    {
      "cell_type": "markdown",
      "source": [
        "**Save model**"
      ],
      "metadata": {
        "id": "UF0RlnUJbQBd"
      }
    },
    {
      "cell_type": "code",
      "source": [
        "# 1. save whole model and weights\n",
        "# model.save('/content/drive/MyDrive/my_model.h5')\n",
        "# 2. save and load weights only\n",
        "model.save_weights('/content/drive/MyDrive/my_model_weights.h5')\n"
      ],
      "metadata": {
        "id": "DQvNBuDHbPRF"
      },
      "execution_count": null,
      "outputs": []
    },
    {
      "cell_type": "markdown",
      "source": [
        "**Load model**"
      ],
      "metadata": {
        "id": "U4_yK9HrbbmF"
      }
    },
    {
      "cell_type": "code",
      "source": [
        "# 1. load whole model and weights\n",
        "# model2 = models.load_model('my_model.h5')\n",
        "# 2. Rebuild model before load weights !\n",
        "# model2 = MyModel()\n",
        "# model2.load_weights('my_model_weights.h5')"
      ],
      "metadata": {
        "id": "XHcxfTYtbeo_"
      },
      "execution_count": null,
      "outputs": []
    },
    {
      "cell_type": "markdown",
      "source": [
        "**Predict image**"
      ],
      "metadata": {
        "id": "XYB2Zy5DOk1x"
      }
    },
    {
      "cell_type": "code",
      "source": [
        "import requests\n",
        "\n",
        "url = input(\"輸入一個網址\")\n",
        "h = {\n",
        "    \"user-agent\":\"Mozilla/5.0 (Windows NT 10.0; Win64; x64) AppleWebKit/537.36 (KHTML, like Gecko) Chrome/105.0.0.0 Safari/537.36\"\n",
        "}\n",
        "\n",
        "response = requests.get(url, stream=True, verify=False, headers=h)\n",
        "img = Image.open(response.raw)\n",
        "img_r = img.convert(\"RGB\").resize((256, 256))\n",
        "img_r = np.array(img_r).reshape(1, 256, 256, 3) / 255.0\n",
        "proba = model.predict(img_r)[0]\n",
        "for t, p in zip(all_class, proba):\n",
        "    print(t, \"的機率:\", p)\n",
        "ans = all_class[proba.argmax(axis=-1)]\n",
        "print(\"答案是:\", ans)\n",
        "plt.imshow(img)"
      ],
      "metadata": {
        "colab": {
          "base_uri": "https://localhost:8080/",
          "height": 433
        },
        "id": "vD1Wj4IDOkPL",
        "outputId": "b4299e1f-c905-43ee-d48e-7625f3ca4143"
      },
      "execution_count": null,
      "outputs": [
        {
          "name": "stdout",
          "output_type": "stream",
          "text": [
            "輸入一個網址https://cdn.bella.tw/indeximage/ZfuRCSJKq435WMFZNmoA80ljU1P1PLYWFBESJf8s.jpeg\n"
          ]
        },
        {
          "output_type": "stream",
          "name": "stderr",
          "text": [
            "/usr/local/lib/python3.7/dist-packages/urllib3/connectionpool.py:847: InsecureRequestWarning: Unverified HTTPS request is being made. Adding certificate verification is strongly advised. See: https://urllib3.readthedocs.io/en/latest/advanced-usage.html#ssl-warnings\n",
            "  InsecureRequestWarning)\n"
          ]
        },
        {
          "output_type": "stream",
          "name": "stdout",
          "text": [
            "Start call\n",
            "MD 的機率: 0.9989042\n",
            "MA 的機率: 0.0010957709\n",
            "答案是: MD\n"
          ]
        },
        {
          "output_type": "execute_result",
          "data": {
            "text/plain": [
              "<matplotlib.image.AxesImage at 0x7f0db51e9850>"
            ]
          },
          "metadata": {},
          "execution_count": 61
        },
        {
          "output_type": "display_data",
          "data": {
            "text/plain": [
              "<Figure size 432x288 with 1 Axes>"
            ],
            "image/png": "[encoded data removed]"
          },
          "metadata": {
            "needs_background": "light"
          }
        }
      ]
    }
  ]
}