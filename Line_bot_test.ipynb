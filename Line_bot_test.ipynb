{
  "nbformat": 4,
  "nbformat_minor": 0,
  "metadata": {
    "colab": {
      "provenance": [],
      "mount_file_id": "1q8ZkSNGJQXQ_G2QSh8sq-Jc0RxcpoldG",
      "authorship_tag": "ABX9TyPFB6m5jrVdKuvbtvpYzT5k",
      "include_colab_link": true
    },
    "kernelspec": {
      "name": "python3",
      "display_name": "Python 3"
    },
    "language_info": {
      "name": "python"
    }
  },
  "cells": [
    {
      "cell_type": "markdown",
      "metadata": {
        "id": "view-in-github",
        "colab_type": "text"
      },
      "source": [
        "<a href=\"https://colab.research.google.com/github/s83512266/Tibame_AI_111-2_group2_project/blob/main/Line_bot_test.ipynb\" target=\"_parent\"><img src=\"https://colab.research.google.com/assets/colab-badge.svg\" alt=\"Open In Colab\"/></a>"
      ]
    },
    {
      "cell_type": "code",
      "source": [
        "!pip install line-bot-sdk flask flask-ngrok\n",
        "!pip install pyngrok\n",
        "!ngrok authtoken 2DFIM8ntaEfB9f5fN0TQbm9lfYD_4USC7JanhXdmYLcVAzv7y\n",
        "!pip install tensorflow_addons"
      ],
      "metadata": {
        "colab": {
          "base_uri": "https://localhost:8080/"
        },
        "id": "LDFnCxqlJ9Vl",
        "outputId": "899df4c7-5666-42f3-a046-087c058f4ba4"
      },
      "execution_count": 5,
      "outputs": [
        {
          "output_type": "stream",
          "name": "stdout",
          "text": [
            "Looking in indexes: https://pypi.org/simple, https://us-python.pkg.dev/colab-wheels/public/simple/\n",
            "Collecting line-bot-sdk\n",
            "  Downloading line_bot_sdk-2.3.0-py2.py3-none-any.whl (88 kB)\n",
            "\u001b[?25l\r\u001b[K     |███▊                            | 10 kB 19.7 MB/s eta 0:00:01\r\u001b[K     |███████▍                        | 20 kB 6.2 MB/s eta 0:00:01\r\u001b[K     |███████████                     | 30 kB 8.8 MB/s eta 0:00:01\r\u001b[K     |██████████████▉                 | 40 kB 4.2 MB/s eta 0:00:01\r\u001b[K     |██████████████████▌             | 51 kB 4.3 MB/s eta 0:00:01\r\u001b[K     |██████████████████████▏         | 61 kB 5.1 MB/s eta 0:00:01\r\u001b[K     |██████████████████████████      | 71 kB 5.3 MB/s eta 0:00:01\r\u001b[K     |█████████████████████████████▋  | 81 kB 5.8 MB/s eta 0:00:01\r\u001b[K     |████████████████████████████████| 88 kB 3.5 MB/s \n",
            "\u001b[?25hRequirement already satisfied: flask in /usr/local/lib/python3.7/dist-packages (1.1.4)\n",
            "Collecting flask-ngrok\n",
            "  Downloading flask_ngrok-0.0.25-py3-none-any.whl (3.1 kB)\n",
            "Requirement already satisfied: aiohttp>=3.7.4 in /usr/local/lib/python3.7/dist-packages (from line-bot-sdk) (3.8.3)\n",
            "Requirement already satisfied: future in /usr/local/lib/python3.7/dist-packages (from line-bot-sdk) (0.16.0)\n",
            "Requirement already satisfied: requests>=2.0 in /usr/local/lib/python3.7/dist-packages (from line-bot-sdk) (2.23.0)\n",
            "Requirement already satisfied: frozenlist>=1.1.1 in /usr/local/lib/python3.7/dist-packages (from aiohttp>=3.7.4->line-bot-sdk) (1.3.1)\n",
            "Requirement already satisfied: attrs>=17.3.0 in /usr/local/lib/python3.7/dist-packages (from aiohttp>=3.7.4->line-bot-sdk) (22.1.0)\n",
            "Requirement already satisfied: asynctest==0.13.0 in /usr/local/lib/python3.7/dist-packages (from aiohttp>=3.7.4->line-bot-sdk) (0.13.0)\n",
            "Requirement already satisfied: async-timeout<5.0,>=4.0.0a3 in /usr/local/lib/python3.7/dist-packages (from aiohttp>=3.7.4->line-bot-sdk) (4.0.2)\n",
            "Requirement already satisfied: aiosignal>=1.1.2 in /usr/local/lib/python3.7/dist-packages (from aiohttp>=3.7.4->line-bot-sdk) (1.2.0)\n",
            "Requirement already satisfied: yarl<2.0,>=1.0 in /usr/local/lib/python3.7/dist-packages (from aiohttp>=3.7.4->line-bot-sdk) (1.8.1)\n",
            "Requirement already satisfied: charset-normalizer<3.0,>=2.0 in /usr/local/lib/python3.7/dist-packages (from aiohttp>=3.7.4->line-bot-sdk) (2.1.1)\n",
            "Requirement already satisfied: multidict<7.0,>=4.5 in /usr/local/lib/python3.7/dist-packages (from aiohttp>=3.7.4->line-bot-sdk) (6.0.2)\n",
            "Requirement already satisfied: typing-extensions>=3.7.4 in /usr/local/lib/python3.7/dist-packages (from aiohttp>=3.7.4->line-bot-sdk) (4.1.1)\n",
            "Requirement already satisfied: urllib3!=1.25.0,!=1.25.1,<1.26,>=1.21.1 in /usr/local/lib/python3.7/dist-packages (from requests>=2.0->line-bot-sdk) (1.24.3)\n",
            "Requirement already satisfied: idna<3,>=2.5 in /usr/local/lib/python3.7/dist-packages (from requests>=2.0->line-bot-sdk) (2.10)\n",
            "Requirement already satisfied: certifi>=2017.4.17 in /usr/local/lib/python3.7/dist-packages (from requests>=2.0->line-bot-sdk) (2022.9.24)\n",
            "Requirement already satisfied: chardet<4,>=3.0.2 in /usr/local/lib/python3.7/dist-packages (from requests>=2.0->line-bot-sdk) (3.0.4)\n",
            "Requirement already satisfied: Werkzeug<2.0,>=0.15 in /usr/local/lib/python3.7/dist-packages (from flask) (1.0.1)\n",
            "Requirement already satisfied: itsdangerous<2.0,>=0.24 in /usr/local/lib/python3.7/dist-packages (from flask) (1.1.0)\n",
            "Requirement already satisfied: click<8.0,>=5.1 in /usr/local/lib/python3.7/dist-packages (from flask) (7.1.2)\n",
            "Requirement already satisfied: Jinja2<3.0,>=2.10.1 in /usr/local/lib/python3.7/dist-packages (from flask) (2.11.3)\n",
            "Requirement already satisfied: MarkupSafe>=0.23 in /usr/local/lib/python3.7/dist-packages (from Jinja2<3.0,>=2.10.1->flask) (2.0.1)\n",
            "Installing collected packages: line-bot-sdk, flask-ngrok\n",
            "Successfully installed flask-ngrok-0.0.25 line-bot-sdk-2.3.0\n",
            "Looking in indexes: https://pypi.org/simple, https://us-python.pkg.dev/colab-wheels/public/simple/\n",
            "Collecting pyngrok\n",
            "  Downloading pyngrok-5.1.0.tar.gz (745 kB)\n",
            "\u001b[K     |████████████████████████████████| 745 kB 4.9 MB/s \n",
            "\u001b[?25hRequirement already satisfied: PyYAML in /usr/local/lib/python3.7/dist-packages (from pyngrok) (6.0)\n",
            "Building wheels for collected packages: pyngrok\n",
            "  Building wheel for pyngrok (setup.py) ... \u001b[?25l\u001b[?25hdone\n",
            "  Created wheel for pyngrok: filename=pyngrok-5.1.0-py3-none-any.whl size=19007 sha256=0fc722b071dab867645c1519e909630cc60413f64b931524fd56fcd519e552cd\n",
            "  Stored in directory: /root/.cache/pip/wheels/bf/e6/af/ccf6598ecefecd44104069371795cb9b3afbcd16987f6ccfb3\n",
            "Successfully built pyngrok\n",
            "Installing collected packages: pyngrok\n",
            "Successfully installed pyngrok-5.1.0\n",
            "Authtoken saved to configuration file: /root/.ngrok2/ngrok.yml\n",
            "Looking in indexes: https://pypi.org/simple, https://us-python.pkg.dev/colab-wheels/public/simple/\n",
            "Collecting tensorflow_addons\n",
            "  Downloading tensorflow_addons-0.18.0-cp37-cp37m-manylinux_2_17_x86_64.manylinux2014_x86_64.whl (1.1 MB)\n",
            "\u001b[K     |████████████████████████████████| 1.1 MB 5.2 MB/s \n",
            "\u001b[?25hRequirement already satisfied: typeguard>=2.7 in /usr/local/lib/python3.7/dist-packages (from tensorflow_addons) (2.7.1)\n",
            "Requirement already satisfied: packaging in /usr/local/lib/python3.7/dist-packages (from tensorflow_addons) (21.3)\n",
            "Requirement already satisfied: pyparsing!=3.0.5,>=2.0.2 in /usr/local/lib/python3.7/dist-packages (from packaging->tensorflow_addons) (3.0.9)\n",
            "Installing collected packages: tensorflow-addons\n",
            "Successfully installed tensorflow-addons-0.18.0\n"
          ]
        }
      ]
    },
    {
      "cell_type": "code",
      "source": [
        "import io\n",
        "import json\n",
        "\n",
        "import numpy as np\n",
        "from tensorflow.keras.models import load_model\n",
        "import tensorflow as tf\n",
        "import tensorflow_addons as tfa\n",
        "from PIL import Image, ImageOps\n",
        "from flask import Flask, request, abort\n",
        "from flask_ngrok import run_with_ngrok\n",
        "from linebot import (\n",
        "    LineBotApi, WebhookHandler\n",
        ")\n",
        "from linebot.exceptions import (\n",
        "    InvalidSignatureError\n",
        ")\n",
        "from linebot.models import (\n",
        "    MessageEvent, TextMessage, TextSendMessage, ImageMessage, PostbackEvent\n",
        ")\n",
        "\n",
        "model = load_model(\"/content/drive/MyDrive/generator_v2.h5\")\n",
        "\n",
        "all_class = ['正常的龜背芋', '根爛或老化', '曬傷', '病菌感染', '其他植物']\n",
        "\n",
        "app = Flask(__name__)\n",
        "run_with_ngrok(app)\n",
        "line_bot_api = LineBotApi('Btz6xnIBTrcc8lUlz9NOc0Q4/JpWNq0/SVLZ+GJWMUdo/YExOzFX2+gZ+ITe+S7Cr4LxSHsKfNy/3D1CjABRKDN9gR+vkvAc0oQvwZnp8HcJZsji1y5KcHsuLwLhLKlz7NgtQob+XpLgIsCdbmRSkAdB04t89/1O/w1cDnyilFU=')\n",
        "handler = WebhookHandler('17b14650c110f87ad15c98edaaf49c0b')\n",
        "\n",
        "reply_dict = {\n",
        "        \"身高\":\"\",\n",
        "        \"陽光\":\"\",\n",
        "        \"水分\":\"\",\n",
        "        \"濕度\":\"\"      \n",
        "              }\n",
        "\n",
        "@app.route(\"/callback\", methods=['POST'])\n",
        "def callback():\n",
        "    # get X-Line-Signature header value\n",
        "    signature = request.headers['X-Line-Signature']\n",
        "\n",
        "    # get request body as text\n",
        "    body = request.get_data(as_text=True)\n",
        "    app.logger.info(\"Request body: \" + body)\n",
        "\n",
        "    # handle webhook body\n",
        "    try:\n",
        "        handler.handle(body, signature)\n",
        "    except InvalidSignatureError:\n",
        "        print(\"Invalid signature. Please check your channel access token/channel secret.\")\n",
        "        abort(400)\n",
        "\n",
        "    return 'OK'\n",
        "\n"
      ],
      "metadata": {
        "id": "-AlpuczaXofe"
      },
      "execution_count": 6,
      "outputs": []
    },
    {
      "cell_type": "code",
      "source": [
        "from linebot.models import (\n",
        "    MessageAction, URIAction,\n",
        "    PostbackAction, DatetimePickerAction,\n",
        "    CameraAction, CameraRollAction, LocationAction,\n",
        "    QuickReply, QuickReplyButton\n",
        ")\n",
        "\n",
        "straight_sun_QuickReplyButton = QuickReplyButton(\n",
        "    action=MessageAction(\n",
        "        label=\"直射\", \n",
        "        text=\"直射\"\n",
        "    )\n",
        ")\n",
        "Scattered_light_QuickReplyButton = QuickReplyButton(\n",
        "    action=MessageAction(\n",
        "        label=\"散射\", \n",
        "        text=\"散射\"\n",
        "    )\n",
        ")\n",
        "\n",
        "sun_quickReplyList = QuickReply(\n",
        "    items = [straight_sun_QuickReplyButton, Scattered_light_QuickReplyButton]\n",
        ")\n",
        "\n",
        "@handler.add(MessageEvent, message=TextMessage)\n",
        "def handle_message(event):\n",
        "    if (event.message.text.find(\"身高=\")!=-1):\n",
        "      reply_dict[\"身高\"] = event.message.text.split(\"=\")[-1]\n",
        "      reply_dict_string = \"\"\n",
        "      for i in reply_dict:\n",
        "        reply_dict_string += i + \"=\" + reply_dict[i] + \"\\n\"\n",
        "      line_bot_api.reply_message(\n",
        "        event.reply_token,\n",
        "        TextSendMessage(text=reply_dict_string)\n",
        "      )\n",
        "    elif (event.message.text.find(\"陽光\")==0):\n",
        "      line_bot_api.reply_message(\n",
        "        event.reply_token,\n",
        "        TextSendMessage(text=\"請點選按鈕\", quick_reply=sun_quickReplyList)\n",
        "      )\n",
        "    elif (event.message.text.find(\"直射\")==0):\n",
        "      reply_dict[\"陽光\"] = event.message.text\n",
        "      reply_dict_string = \"\"\n",
        "      for i in reply_dict:\n",
        "        reply_dict_string += i + \"=\" + reply_dict[i] + \"\\n\"\n",
        "      line_bot_api.reply_message(\n",
        "        event.reply_token,\n",
        "        TextSendMessage(text=reply_dict_string)\n",
        "      )\n",
        "    elif (event.message.text.find(\"散射\")==0):\n",
        "      reply_dict[\"陽光\"] = event.message.text\n",
        "      reply_dict_string = \"\"\n",
        "      for i in reply_dict:\n",
        "        reply_dict_string += i + \"=\" + reply_dict[i] + \"\\n\"\n",
        "      line_bot_api.reply_message(\n",
        "        event.reply_token,\n",
        "        TextSendMessage(text=reply_dict_string)\n",
        "      )\n",
        "      "
      ],
      "metadata": {
        "id": "YGes2fpAosyE"
      },
      "execution_count": 8,
      "outputs": []
    },
    {
      "cell_type": "code",
      "source": [
        "!pip install apscheduler\n",
        "from importlib import reload  \n",
        "import tzlocal\n",
        "\n",
        "!pip uninstall tzlocal\n",
        "!pip install --force-reinstall tzlocal==2.0\n",
        "\n",
        "reload(tzlocal)"
      ],
      "metadata": {
        "colab": {
          "base_uri": "https://localhost:8080/",
          "height": 630
        },
        "id": "QDb9LHQOapvS",
        "outputId": "b2f89f6f-ebad-4a89-b5fb-6083f6ec077d"
      },
      "execution_count": 1,
      "outputs": [
        {
          "output_type": "stream",
          "name": "stdout",
          "text": [
            "Looking in indexes: https://pypi.org/simple, https://us-python.pkg.dev/colab-wheels/public/simple/\n",
            "Requirement already satisfied: apscheduler in /usr/local/lib/python3.7/dist-packages (3.9.1)\n",
            "Requirement already satisfied: setuptools>=0.7 in /usr/local/lib/python3.7/dist-packages (from apscheduler) (57.4.0)\n",
            "Requirement already satisfied: pytz in /usr/local/lib/python3.7/dist-packages (from apscheduler) (2022.5)\n",
            "Requirement already satisfied: six>=1.4.0 in /usr/local/lib/python3.7/dist-packages (from apscheduler) (1.15.0)\n",
            "Requirement already satisfied: tzlocal!=3.*,>=2.0 in /usr/local/lib/python3.7/dist-packages (from apscheduler) (2.0.0)\n",
            "Found existing installation: tzlocal 2.0.0\n",
            "Uninstalling tzlocal-2.0.0:\n",
            "  Would remove:\n",
            "    /usr/local/lib/python3.7/dist-packages/tzlocal-2.0.0.dist-info/*\n",
            "    /usr/local/lib/python3.7/dist-packages/tzlocal/*\n",
            "Proceed (y/n)? n\n",
            "Looking in indexes: https://pypi.org/simple, https://us-python.pkg.dev/colab-wheels/public/simple/\n",
            "Collecting tzlocal==2.0\n",
            "  Using cached tzlocal-2.0.0-py2.py3-none-any.whl (15 kB)\n",
            "Collecting pytz\n",
            "  Using cached pytz-2022.5-py2.py3-none-any.whl (500 kB)\n",
            "Installing collected packages: pytz, tzlocal\n",
            "  Attempting uninstall: pytz\n",
            "    Found existing installation: pytz 2022.5\n",
            "    Uninstalling pytz-2022.5:\n",
            "      Successfully uninstalled pytz-2022.5\n",
            "  Attempting uninstall: tzlocal\n",
            "    Found existing installation: tzlocal 2.0.0\n",
            "    Uninstalling tzlocal-2.0.0:\n",
            "      Successfully uninstalled tzlocal-2.0.0\n",
            "Successfully installed pytz-2022.5 tzlocal-2.0.0\n"
          ]
        },
        {
          "output_type": "display_data",
          "data": {
            "application/vnd.colab-display-data+json": {
              "pip_warning": {
                "packages": [
                  "pytz",
                  "tzlocal"
                ]
              }
            }
          },
          "metadata": {}
        },
        {
          "output_type": "execute_result",
          "data": {
            "text/plain": [
              "<module 'tzlocal' from '/usr/local/lib/python3.7/dist-packages/tzlocal/__init__.py'>"
            ]
          },
          "metadata": {},
          "execution_count": 1
        }
      ]
    },
    {
      "cell_type": "code",
      "source": [
        "from apscheduler.schedulers.background import BackgroundScheduler\n",
        "from datetime import datetime, timedelta\n",
        "import pytz\n",
        "\n",
        "taiwan_tz = pytz.timezone('Asia/Taipei')\n",
        "## 點擊後，彈跳出選擇時間之視窗\n",
        "## DatetimePickerAction\n",
        "# label: 按鍵的文字\n",
        "# data: 隱藏資料\n",
        "# mode=\"date\": 給用戶輸入的畫面是天數\n",
        "watering_dateQuickReplyButton = QuickReplyButton(\n",
        "    action=DatetimePickerAction(\n",
        "        label=\"澆水提醒\",\n",
        "        data=\"watering_remind\",\n",
        "        mode=\"datetime\"                       \n",
        "    )\n",
        ")\n",
        "\n",
        "# Sunday_QuickReplyButton = QuickReplyButton(\n",
        "#     action=DatetimePickerAction(\n",
        "#         label=\"星期日\", \n",
        "#         data=\"星期日\",\n",
        "#         mode=\"time\"\n",
        "#     )\n",
        "# )\n",
        "\n",
        "# Monday_QuickReplyButton = QuickReplyButton(\n",
        "#     action=DatetimePickerAction(\n",
        "#         label=\"星期一\", \n",
        "#         data=\"星期一\",\n",
        "#         mode=\"datetime\"\n",
        "#     )\n",
        "# )\n",
        "\n",
        "# Tuesday_QuickReplyButton = QuickReplyButton(\n",
        "#     action=DatetimePickerAction(\n",
        "#         label=\"星期二\", \n",
        "#         data=\"星期二\",\n",
        "#         mode=\"time\"\n",
        "#     )\n",
        "# )\n",
        "# Wednesday_QuickReplyButton = QuickReplyButton(\n",
        "#     action=DatetimePickerAction(\n",
        "#         label=\"星期三\", \n",
        "#         data=\"星期三\",\n",
        "#         mode=\"time\"\n",
        "#     )\n",
        "# )\n",
        "# Thursday_QuickReplyButton = QuickReplyButton(\n",
        "#     action=DatetimePickerAction(\n",
        "#         label=\"星期四\", \n",
        "#         data=\"星期四\",\n",
        "#         mode=\"time\"\n",
        "#     )\n",
        "# )\n",
        "# Friday_QuickReplyButton = QuickReplyButton(\n",
        "#     action=DatetimePickerAction(\n",
        "#         label=\"星期五\", \n",
        "#         data=\"星期五\",\n",
        "#         mode=\"time\"\n",
        "#     )\n",
        "# )\n",
        "# Saturday_QuickReplyButton = QuickReplyButton(\n",
        "#     action=DatetimePickerAction(\n",
        "#         label=\"星期六\", \n",
        "#         data=\"星期六\",\n",
        "#         mode=\"time\"\n",
        "#     )\n",
        "# )\n",
        "\n",
        "remind_quickReplyList = QuickReply(\n",
        "    items = [watering_dateQuickReplyButton]\n",
        ")\n",
        "# week_quickReplyList = QuickReply(\n",
        "#     items = [Sunday_QuickReplyButton, Monday_QuickReplyButton, Tuesday_QuickReplyButton,\n",
        "#              Wednesday_QuickReplyButton, Thursday_QuickReplyButton, Friday_QuickReplyButton,\n",
        "#              Saturday_QuickReplyButton]\n",
        "# )\n",
        "\n",
        "def push(user_id):\n",
        "    line_bot_api.push_message(user_id, TextSendMessage(text='要澆水囉'))\n",
        "    \n",
        "scheduler = BackgroundScheduler(daemon=True)\n",
        "\n",
        "@handler.add(MessageEvent, message=TextMessage)\n",
        "def handle_message(event):\n",
        "  if (event.message.text.find(\"提醒\")==0):\n",
        "    line_bot_api.reply_message(\n",
        "        event.reply_token,\n",
        "        TextSendMessage(text=\"請選擇提醒項目\", quick_reply=remind_quickReplyList)\n",
        "      )\n",
        "    \n",
        "@handler.add(PostbackEvent)\n",
        "def handle_post_message(event):\n",
        "    user_profile = line_bot_api.get_profile(event.source.user_id)\n",
        "    user_id = vars(user_profile)[\"user_id\"]\n",
        "    if (event.postback.data.find('watering_remind')== 0):\n",
        "        # with open(\"user_profile_business.txt\", \"a\") as myfile:\n",
        "        #     myfile.write(json.dumps(vars(user_profile),sort_keys=True))\n",
        "        #     myfile.write('\\n')\n",
        "            line_bot_api.reply_message(\n",
        "            event.reply_token,\n",
        "                TextSendMessage(\n",
        "                    text='已為您設定{}澆水提醒'.format(event.postback.params[\"datetime\"])\n",
        "                )\n",
        "            )\n",
        "            \n",
        "            if (event.postback.params[\"datetime\"] != 0):\n",
        "\n",
        "                remind_datetime = event.postback.params[\"datetime\"].split(\"T\")\n",
        "                remind_date = remind_datetime[0].split(\"-\")\n",
        "                remind_date = [eval(i) for i in remind_date]\n",
        "                remind_time = remind_datetime[1].split(\":\")\n",
        "                remind_time = [eval(i) for i in remind_time]\n",
        "                alarm_datetime = datetime(remind_date[0], remind_date[1], remind_date[2], remind_time[0], remind_time[1])\n",
        "                alarm_datetime = taiwan_tz.localize(alarm_datetime)\n",
        "                try:\n",
        "                    scheduler.add_job(push, 'date', run_date = alarm_datetime, args = [user_id])\n",
        "                    scheduler.start()\n",
        "                except:\n",
        "                    pass\n",
        "            # with open(\"params.txt\", \"a\") as params:\n",
        "            #   params.write(json.dumps(event.postback.params))\n",
        "\n",
        "\n"
      ],
      "metadata": {
        "id": "a_MugIwrNXW4"
      },
      "execution_count": 57,
      "outputs": []
    },
    {
      "cell_type": "code",
      "source": [
        "# @handler.add(MessageEvent, message=TextMessage)\n",
        "# def handle_message(event):\n",
        "#     if (event.message.text.find(\"身高=\")!=-1):\n",
        "#       reply_dict[\"身高\"] = event.message.text.split(\"=\")[-1]\n",
        "#       reply_dict_string = \"\"\n",
        "#       for i in reply_dict:\n",
        "#         reply_dict_string += i + \"=\" + reply_dict[i] + \"\\n\"\n",
        "#       line_bot_api.reply_message(\n",
        "#         event.reply_token,\n",
        "#         TextSendMessage(text=reply_dict_string)\n",
        "#       )\n",
        "    # line_bot_api.reply_message(\n",
        "    #     event.reply_token,\n",
        "    #     TextSendMessage(text=\"reply_dict\"),\n",
        "        # TextSendMessage(text=event.message.text))\n",
        "\n",
        "\n",
        "@handler.add(MessageEvent, message=ImageMessage)\n",
        "def handle_message(event):\n",
        "    message_id = event.message.id\n",
        "    message_content = line_bot_api.get_message_content(message_id)\n",
        "        \n",
        "    b = b''\n",
        "    for chunk in message_content.iter_content():\n",
        "        b += chunk\n",
        "    img = Image.open(io.BytesIO(b))\n",
        "    r = classify(img)\n",
        "    line_bot_api.reply_message(\n",
        "        event.reply_token,\n",
        "        TextSendMessage(text=r))\n",
        "\n",
        "\n",
        "def classify(img):\n",
        "    img = ImageOps.fit(img, model.input.shape[1:3])\n",
        "    img = np.expand_dims(img, axis=0)\n",
        "    img = tf.keras.applications.efficientnet_v2.preprocess_input(img, data_format=None)\n",
        "    prediction = model.predict(img)[0]\n",
        "    return all_class[prediction.argmax(axis=-1)]\n",
        "\n",
        "\n",
        "\n",
        "if __name__ == \"__main__\":\n",
        "    app.run()"
      ],
      "metadata": {
        "colab": {
          "base_uri": "https://localhost:8080/"
        },
        "id": "uLr21dO0opoe",
        "outputId": "1ecad1d1-bbed-4911-e753-f34aae379973"
      },
      "execution_count": 58,
      "outputs": [
        {
          "output_type": "stream",
          "name": "stdout",
          "text": [
            " * Serving Flask app \"__main__\" (lazy loading)\n",
            " * Environment: production\n",
            "\u001b[31m   WARNING: This is a development server. Do not use it in a production deployment.\u001b[0m\n",
            "\u001b[2m   Use a production WSGI server instead.\u001b[0m\n",
            " * Debug mode: off\n"
          ]
        },
        {
          "output_type": "stream",
          "name": "stderr",
          "text": [
            "INFO:werkzeug: * Running on http://127.0.0.1:5000/ (Press CTRL+C to quit)\n"
          ]
        },
        {
          "output_type": "stream",
          "name": "stdout",
          "text": [
            " * Running on http://0d38-34-136-42-135.ngrok.io\n",
            " * Traffic stats available on http://127.0.0.1:4040\n"
          ]
        },
        {
          "output_type": "stream",
          "name": "stderr",
          "text": [
            "INFO:werkzeug:127.0.0.1 - - [31/Oct/2022 14:39:36] \"\u001b[37mPOST /callback HTTP/1.1\u001b[0m\" 200 -\n",
            "INFO:werkzeug:127.0.0.1 - - [31/Oct/2022 14:39:41] \"\u001b[37mPOST /callback HTTP/1.1\u001b[0m\" 200 -\n"
          ]
        }
      ]
    },
    {
      "cell_type": "code",
      "source": [
        "import json\n",
        "reply_dict = {\n",
        "        \"身高\":\"\",\n",
        "        \"陽光\":\"\",\n",
        "        \"水分\":\"\",\n",
        "        \"濕度\":\"\"      \n",
        "              }\n",
        "a = \"\"\n",
        "for i in reply_dict:\n",
        "  a += i + \"=\" + reply_dict[i] + \"\\n\"\n",
        "print(a)"
      ],
      "metadata": {
        "colab": {
          "base_uri": "https://localhost:8080/"
        },
        "id": "Qwpi90vVeoH8",
        "outputId": "b3a04412-ddcd-48f8-98c1-e03897c10547"
      },
      "execution_count": null,
      "outputs": [
        {
          "output_type": "stream",
          "name": "stdout",
          "text": [
            "身高=\n",
            "陽光=\n",
            "水分=\n",
            "濕度=\n",
            "\n"
          ]
        }
      ]
    },
    {
      "cell_type": "code",
      "source": [
        "t = \"2022-10-31T19:33\".split(\"T\")\n",
        "# t = t.split(\"T\")\n",
        "remind_date = t[0].split(\"-\")\n",
        "remind_date = [eval(i) for i in remind_date]\n",
        "remind_time = t[1].split(\":\")\n",
        "remind_time = [eval(i) for i in remind_time]\n",
        "print(t)\n",
        "print(datetime(remind_date[0], remind_date[1], remind_date[2], remind_time[0], remind_time[1]))"
      ],
      "metadata": {
        "colab": {
          "base_uri": "https://localhost:8080/"
        },
        "id": "5a7eZe060wRb",
        "outputId": "f608e460-c5e4-4757-8ff9-894281bc49b8"
      },
      "execution_count": 25,
      "outputs": [
        {
          "output_type": "stream",
          "name": "stdout",
          "text": [
            "['2022-10-31', '19:33']\n",
            "2022-10-31 19:33:00\n"
          ]
        }
      ]
    },
    {
      "cell_type": "code",
      "source": [
        "a = {\"display_name\": \"poyu\", \"language\": \"zh-Hant\", \"picture_url\": \"https://sprofile.line-scdn.net/0hN5cpKED1ERpOCQetDEpvZT5ZEnBteEgINzsMdX1aSHlwP1Ica2sOfCxeSy5zPwYea2ZXdClbGC9CGmZ8UF_tLkk5Ty13P1REamZf9Q\", \"status_message\": \"Every cloud has a silver lining.\", \"user_id\": \"Ub438bf5748ddcad5944505ade328efc4\"}\n",
        "a[\"user_id\"]"
      ],
      "metadata": {
        "colab": {
          "base_uri": "https://localhost:8080/",
          "height": 35
        },
        "id": "pA1NgMESL6wY",
        "outputId": "6fa77cf7-37f2-4869-a717-8b4de63650a7"
      },
      "execution_count": 42,
      "outputs": [
        {
          "output_type": "execute_result",
          "data": {
            "text/plain": [
              "'Ub438bf5748ddcad5944505ade328efc4'"
            ],
            "application/vnd.google.colaboratory.intrinsic+json": {
              "type": "string"
            }
          },
          "metadata": {},
          "execution_count": 42
        }
      ]
    },
    {
      "cell_type": "code",
      "source": [
        "!python --version"
      ],
      "metadata": {
        "colab": {
          "base_uri": "https://localhost:8080/"
        },
        "id": "J4S5dSEx2_6E",
        "outputId": "633f541e-0bc8-4341-94e7-5825427fb208"
      },
      "execution_count": null,
      "outputs": [
        {
          "output_type": "stream",
          "name": "stdout",
          "text": [
            "Python 3.7.15\n"
          ]
        }
      ]
    }
  ]
}